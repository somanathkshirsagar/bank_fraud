{
 "cells": [
  {
   "cell_type": "markdown",
   "metadata": {},
   "source": [
    "### 1. Loading required Libraries"
   ]
  },
  {
   "cell_type": "code",
   "execution_count": 3,
   "metadata": {},
   "outputs": [],
   "source": [
    "import numpy as np\n",
    "import pandas as pd\n",
    "import seaborn as sns\n",
    "import matplotlib.pyplot as plt"
   ]
  },
  {
   "cell_type": "markdown",
   "metadata": {},
   "source": [
    "### 2. Importing dataset into 'cars' dataframe"
   ]
  },
  {
   "cell_type": "code",
   "execution_count": 4,
   "metadata": {},
   "outputs": [
    {
     "ename": "FileNotFoundError",
     "evalue": "[Errno 2] No such file or directory: '../datasets/Fraud.csv'",
     "output_type": "error",
     "traceback": [
      "\u001b[1;31m---------------------------------------------------------------------------\u001b[0m",
      "\u001b[1;31mFileNotFoundError\u001b[0m                         Traceback (most recent call last)",
      "\u001b[1;32mc:\\Users\\laxman sarwade\\OneDrive\\Desktop\\bank_fraud\\notebook\\bank_fraud.ipynb Cell 4\u001b[0m in \u001b[0;36m<cell line: 1>\u001b[1;34m()\u001b[0m\n\u001b[1;32m----> <a href='vscode-notebook-cell:/c%3A/Users/laxman%20sarwade/OneDrive/Desktop/bank_fraud/notebook/bank_fraud.ipynb#W3sZmlsZQ%3D%3D?line=0'>1</a>\u001b[0m bank \u001b[39m=\u001b[39m pd\u001b[39m.\u001b[39;49mread_csv(\u001b[39m\"\u001b[39;49m\u001b[39m../datasets/Fraud.csv\u001b[39;49m\u001b[39m\"\u001b[39;49m)\n\u001b[0;32m      <a href='vscode-notebook-cell:/c%3A/Users/laxman%20sarwade/OneDrive/Desktop/bank_fraud/notebook/bank_fraud.ipynb#W3sZmlsZQ%3D%3D?line=1'>2</a>\u001b[0m bank\u001b[39m.\u001b[39mhead()\n",
      "File \u001b[1;32mc:\\Users\\laxman sarwade\\miniconda3\\lib\\site-packages\\pandas\\util\\_decorators.py:311\u001b[0m, in \u001b[0;36mdeprecate_nonkeyword_arguments.<locals>.decorate.<locals>.wrapper\u001b[1;34m(*args, **kwargs)\u001b[0m\n\u001b[0;32m    305\u001b[0m \u001b[39mif\u001b[39;00m \u001b[39mlen\u001b[39m(args) \u001b[39m>\u001b[39m num_allow_args:\n\u001b[0;32m    306\u001b[0m     warnings\u001b[39m.\u001b[39mwarn(\n\u001b[0;32m    307\u001b[0m         msg\u001b[39m.\u001b[39mformat(arguments\u001b[39m=\u001b[39marguments),\n\u001b[0;32m    308\u001b[0m         \u001b[39mFutureWarning\u001b[39;00m,\n\u001b[0;32m    309\u001b[0m         stacklevel\u001b[39m=\u001b[39mstacklevel,\n\u001b[0;32m    310\u001b[0m     )\n\u001b[1;32m--> 311\u001b[0m \u001b[39mreturn\u001b[39;00m func(\u001b[39m*\u001b[39margs, \u001b[39m*\u001b[39m\u001b[39m*\u001b[39mkwargs)\n",
      "File \u001b[1;32mc:\\Users\\laxman sarwade\\miniconda3\\lib\\site-packages\\pandas\\io\\parsers\\readers.py:680\u001b[0m, in \u001b[0;36mread_csv\u001b[1;34m(filepath_or_buffer, sep, delimiter, header, names, index_col, usecols, squeeze, prefix, mangle_dupe_cols, dtype, engine, converters, true_values, false_values, skipinitialspace, skiprows, skipfooter, nrows, na_values, keep_default_na, na_filter, verbose, skip_blank_lines, parse_dates, infer_datetime_format, keep_date_col, date_parser, dayfirst, cache_dates, iterator, chunksize, compression, thousands, decimal, lineterminator, quotechar, quoting, doublequote, escapechar, comment, encoding, encoding_errors, dialect, error_bad_lines, warn_bad_lines, on_bad_lines, delim_whitespace, low_memory, memory_map, float_precision, storage_options)\u001b[0m\n\u001b[0;32m    665\u001b[0m kwds_defaults \u001b[39m=\u001b[39m _refine_defaults_read(\n\u001b[0;32m    666\u001b[0m     dialect,\n\u001b[0;32m    667\u001b[0m     delimiter,\n\u001b[1;32m   (...)\u001b[0m\n\u001b[0;32m    676\u001b[0m     defaults\u001b[39m=\u001b[39m{\u001b[39m\"\u001b[39m\u001b[39mdelimiter\u001b[39m\u001b[39m\"\u001b[39m: \u001b[39m\"\u001b[39m\u001b[39m,\u001b[39m\u001b[39m\"\u001b[39m},\n\u001b[0;32m    677\u001b[0m )\n\u001b[0;32m    678\u001b[0m kwds\u001b[39m.\u001b[39mupdate(kwds_defaults)\n\u001b[1;32m--> 680\u001b[0m \u001b[39mreturn\u001b[39;00m _read(filepath_or_buffer, kwds)\n",
      "File \u001b[1;32mc:\\Users\\laxman sarwade\\miniconda3\\lib\\site-packages\\pandas\\io\\parsers\\readers.py:575\u001b[0m, in \u001b[0;36m_read\u001b[1;34m(filepath_or_buffer, kwds)\u001b[0m\n\u001b[0;32m    572\u001b[0m _validate_names(kwds\u001b[39m.\u001b[39mget(\u001b[39m\"\u001b[39m\u001b[39mnames\u001b[39m\u001b[39m\"\u001b[39m, \u001b[39mNone\u001b[39;00m))\n\u001b[0;32m    574\u001b[0m \u001b[39m# Create the parser.\u001b[39;00m\n\u001b[1;32m--> 575\u001b[0m parser \u001b[39m=\u001b[39m TextFileReader(filepath_or_buffer, \u001b[39m*\u001b[39m\u001b[39m*\u001b[39mkwds)\n\u001b[0;32m    577\u001b[0m \u001b[39mif\u001b[39;00m chunksize \u001b[39mor\u001b[39;00m iterator:\n\u001b[0;32m    578\u001b[0m     \u001b[39mreturn\u001b[39;00m parser\n",
      "File \u001b[1;32mc:\\Users\\laxman sarwade\\miniconda3\\lib\\site-packages\\pandas\\io\\parsers\\readers.py:934\u001b[0m, in \u001b[0;36mTextFileReader.__init__\u001b[1;34m(self, f, engine, **kwds)\u001b[0m\n\u001b[0;32m    931\u001b[0m     \u001b[39mself\u001b[39m\u001b[39m.\u001b[39moptions[\u001b[39m\"\u001b[39m\u001b[39mhas_index_names\u001b[39m\u001b[39m\"\u001b[39m] \u001b[39m=\u001b[39m kwds[\u001b[39m\"\u001b[39m\u001b[39mhas_index_names\u001b[39m\u001b[39m\"\u001b[39m]\n\u001b[0;32m    933\u001b[0m \u001b[39mself\u001b[39m\u001b[39m.\u001b[39mhandles: IOHandles \u001b[39m|\u001b[39m \u001b[39mNone\u001b[39;00m \u001b[39m=\u001b[39m \u001b[39mNone\u001b[39;00m\n\u001b[1;32m--> 934\u001b[0m \u001b[39mself\u001b[39m\u001b[39m.\u001b[39m_engine \u001b[39m=\u001b[39m \u001b[39mself\u001b[39;49m\u001b[39m.\u001b[39;49m_make_engine(f, \u001b[39mself\u001b[39;49m\u001b[39m.\u001b[39;49mengine)\n",
      "File \u001b[1;32mc:\\Users\\laxman sarwade\\miniconda3\\lib\\site-packages\\pandas\\io\\parsers\\readers.py:1218\u001b[0m, in \u001b[0;36mTextFileReader._make_engine\u001b[1;34m(self, f, engine)\u001b[0m\n\u001b[0;32m   1214\u001b[0m     mode \u001b[39m=\u001b[39m \u001b[39m\"\u001b[39m\u001b[39mrb\u001b[39m\u001b[39m\"\u001b[39m\n\u001b[0;32m   1215\u001b[0m \u001b[39m# error: No overload variant of \"get_handle\" matches argument types\u001b[39;00m\n\u001b[0;32m   1216\u001b[0m \u001b[39m# \"Union[str, PathLike[str], ReadCsvBuffer[bytes], ReadCsvBuffer[str]]\"\u001b[39;00m\n\u001b[0;32m   1217\u001b[0m \u001b[39m# , \"str\", \"bool\", \"Any\", \"Any\", \"Any\", \"Any\", \"Any\"\u001b[39;00m\n\u001b[1;32m-> 1218\u001b[0m \u001b[39mself\u001b[39m\u001b[39m.\u001b[39mhandles \u001b[39m=\u001b[39m get_handle(  \u001b[39m# type: ignore[call-overload]\u001b[39;49;00m\n\u001b[0;32m   1219\u001b[0m     f,\n\u001b[0;32m   1220\u001b[0m     mode,\n\u001b[0;32m   1221\u001b[0m     encoding\u001b[39m=\u001b[39;49m\u001b[39mself\u001b[39;49m\u001b[39m.\u001b[39;49moptions\u001b[39m.\u001b[39;49mget(\u001b[39m\"\u001b[39;49m\u001b[39mencoding\u001b[39;49m\u001b[39m\"\u001b[39;49m, \u001b[39mNone\u001b[39;49;00m),\n\u001b[0;32m   1222\u001b[0m     compression\u001b[39m=\u001b[39;49m\u001b[39mself\u001b[39;49m\u001b[39m.\u001b[39;49moptions\u001b[39m.\u001b[39;49mget(\u001b[39m\"\u001b[39;49m\u001b[39mcompression\u001b[39;49m\u001b[39m\"\u001b[39;49m, \u001b[39mNone\u001b[39;49;00m),\n\u001b[0;32m   1223\u001b[0m     memory_map\u001b[39m=\u001b[39;49m\u001b[39mself\u001b[39;49m\u001b[39m.\u001b[39;49moptions\u001b[39m.\u001b[39;49mget(\u001b[39m\"\u001b[39;49m\u001b[39mmemory_map\u001b[39;49m\u001b[39m\"\u001b[39;49m, \u001b[39mFalse\u001b[39;49;00m),\n\u001b[0;32m   1224\u001b[0m     is_text\u001b[39m=\u001b[39;49mis_text,\n\u001b[0;32m   1225\u001b[0m     errors\u001b[39m=\u001b[39;49m\u001b[39mself\u001b[39;49m\u001b[39m.\u001b[39;49moptions\u001b[39m.\u001b[39;49mget(\u001b[39m\"\u001b[39;49m\u001b[39mencoding_errors\u001b[39;49m\u001b[39m\"\u001b[39;49m, \u001b[39m\"\u001b[39;49m\u001b[39mstrict\u001b[39;49m\u001b[39m\"\u001b[39;49m),\n\u001b[0;32m   1226\u001b[0m     storage_options\u001b[39m=\u001b[39;49m\u001b[39mself\u001b[39;49m\u001b[39m.\u001b[39;49moptions\u001b[39m.\u001b[39;49mget(\u001b[39m\"\u001b[39;49m\u001b[39mstorage_options\u001b[39;49m\u001b[39m\"\u001b[39;49m, \u001b[39mNone\u001b[39;49;00m),\n\u001b[0;32m   1227\u001b[0m )\n\u001b[0;32m   1228\u001b[0m \u001b[39massert\u001b[39;00m \u001b[39mself\u001b[39m\u001b[39m.\u001b[39mhandles \u001b[39mis\u001b[39;00m \u001b[39mnot\u001b[39;00m \u001b[39mNone\u001b[39;00m\n\u001b[0;32m   1229\u001b[0m f \u001b[39m=\u001b[39m \u001b[39mself\u001b[39m\u001b[39m.\u001b[39mhandles\u001b[39m.\u001b[39mhandle\n",
      "File \u001b[1;32mc:\\Users\\laxman sarwade\\miniconda3\\lib\\site-packages\\pandas\\io\\common.py:786\u001b[0m, in \u001b[0;36mget_handle\u001b[1;34m(path_or_buf, mode, encoding, compression, memory_map, is_text, errors, storage_options)\u001b[0m\n\u001b[0;32m    781\u001b[0m \u001b[39melif\u001b[39;00m \u001b[39misinstance\u001b[39m(handle, \u001b[39mstr\u001b[39m):\n\u001b[0;32m    782\u001b[0m     \u001b[39m# Check whether the filename is to be opened in binary mode.\u001b[39;00m\n\u001b[0;32m    783\u001b[0m     \u001b[39m# Binary mode does not support 'encoding' and 'newline'.\u001b[39;00m\n\u001b[0;32m    784\u001b[0m     \u001b[39mif\u001b[39;00m ioargs\u001b[39m.\u001b[39mencoding \u001b[39mand\u001b[39;00m \u001b[39m\"\u001b[39m\u001b[39mb\u001b[39m\u001b[39m\"\u001b[39m \u001b[39mnot\u001b[39;00m \u001b[39min\u001b[39;00m ioargs\u001b[39m.\u001b[39mmode:\n\u001b[0;32m    785\u001b[0m         \u001b[39m# Encoding\u001b[39;00m\n\u001b[1;32m--> 786\u001b[0m         handle \u001b[39m=\u001b[39m \u001b[39mopen\u001b[39;49m(\n\u001b[0;32m    787\u001b[0m             handle,\n\u001b[0;32m    788\u001b[0m             ioargs\u001b[39m.\u001b[39;49mmode,\n\u001b[0;32m    789\u001b[0m             encoding\u001b[39m=\u001b[39;49mioargs\u001b[39m.\u001b[39;49mencoding,\n\u001b[0;32m    790\u001b[0m             errors\u001b[39m=\u001b[39;49merrors,\n\u001b[0;32m    791\u001b[0m             newline\u001b[39m=\u001b[39;49m\u001b[39m\"\u001b[39;49m\u001b[39m\"\u001b[39;49m,\n\u001b[0;32m    792\u001b[0m         )\n\u001b[0;32m    793\u001b[0m     \u001b[39melse\u001b[39;00m:\n\u001b[0;32m    794\u001b[0m         \u001b[39m# Binary mode\u001b[39;00m\n\u001b[0;32m    795\u001b[0m         handle \u001b[39m=\u001b[39m \u001b[39mopen\u001b[39m(handle, ioargs\u001b[39m.\u001b[39mmode)\n",
      "\u001b[1;31mFileNotFoundError\u001b[0m: [Errno 2] No such file or directory: '../datasets/Fraud.csv'"
     ]
    }
   ],
   "source": [
    "bank = pd.read_csv(\"../datasets/Fraud.csv\")\n",
    "bank.head()"
   ]
  },
  {
   "cell_type": "markdown",
   "metadata": {},
   "source": [
    "### 3. Description of Dataset"
   ]
  },
  {
   "cell_type": "markdown",
   "metadata": {},
   "source": [
    "#### 3.1 Shape of Dataset"
   ]
  },
  {
   "cell_type": "code",
   "execution_count": null,
   "metadata": {},
   "outputs": [
    {
     "name": "stdout",
     "output_type": "stream",
     "text": [
      "There are \u001b[1m 1048575 rows\\patterns \u001b[0m and \u001b[1m11 features\u001b[0m.\n"
     ]
    }
   ],
   "source": [
    "shape = bank.shape\n",
    "print(f\"There are \\033[1m {shape[0]} rows\\patterns \\033[0m and \\033[1m{shape[1]} features\\033[0m.\")"
   ]
  },
  {
   "cell_type": "markdown",
   "metadata": {},
   "source": [
    "#### 3.2 info"
   ]
  },
  {
   "cell_type": "code",
   "execution_count": null,
   "metadata": {},
   "outputs": [
    {
     "name": "stdout",
     "output_type": "stream",
     "text": [
      "<class 'pandas.core.frame.DataFrame'>\n",
      "RangeIndex: 1048575 entries, 0 to 1048574\n",
      "Data columns (total 11 columns):\n",
      " #   Column          Non-Null Count    Dtype  \n",
      "---  ------          --------------    -----  \n",
      " 0   step            1048575 non-null  int64  \n",
      " 1   type            1048575 non-null  object \n",
      " 2   amount          1048575 non-null  float64\n",
      " 3   nameOrig        1048575 non-null  object \n",
      " 4   oldbalanceOrg   1048575 non-null  float64\n",
      " 5   newbalanceOrig  1048575 non-null  float64\n",
      " 6   nameDest        1048575 non-null  object \n",
      " 7   oldbalanceDest  1048575 non-null  float64\n",
      " 8   newbalanceDest  1048575 non-null  float64\n",
      " 9   isFraud         1048575 non-null  int64  \n",
      " 10  isFlaggedFraud  1048575 non-null  int64  \n",
      "dtypes: float64(5), int64(3), object(3)\n",
      "memory usage: 88.0+ MB\n"
     ]
    }
   ],
   "source": [
    "bank.info()"
   ]
  },
  {
   "cell_type": "markdown",
   "metadata": {},
   "source": [
    "#### 3.3 Missing Values for features"
   ]
  },
  {
   "cell_type": "code",
   "execution_count": null,
   "metadata": {},
   "outputs": [
    {
     "data": {
      "text/plain": [
       "[]"
      ]
     },
     "execution_count": 6,
     "metadata": {},
     "output_type": "execute_result"
    }
   ],
   "source": [
    "[[features,bank[features].isnull().sum()] for features in bank.columns if bank[features].isnull().sum()>0]"
   ]
  },
  {
   "cell_type": "markdown",
   "metadata": {},
   "source": [
    "**Observation**:\n",
    "\n",
    "There are no Missing Values."
   ]
  },
  {
   "cell_type": "markdown",
   "metadata": {},
   "source": [
    "#### 3.4 Correleation Heatmap"
   ]
  },
  {
   "cell_type": "code",
   "execution_count": null,
   "metadata": {},
   "outputs": [
    {
     "data": {
      "image/png": "iVBORw0KGgoAAAANSUhEUgAAAbYAAAFdCAYAAABvikgxAAAAOXRFWHRTb2Z0d2FyZQBNYXRwbG90bGliIHZlcnNpb24zLjUuMywgaHR0cHM6Ly9tYXRwbG90bGliLm9yZy/NK7nSAAAACXBIWXMAAAsTAAALEwEAmpwYAACDJUlEQVR4nOydd3wUVfeHnySA4EvoCSmIIOhRaaGDIAJKL4IgSrWBNAsCKvaChVcBkVdF7EqzoEjvEARpgdDLQUVaOiWFHygk5PfHTJJNSCAbYHeT3IfPfti5987c705m98w598y9XqmpqRgMBoPBUFDwdrcAg8FgMBiuJsawGQwGg6FAYQybwWAwGAoUxrAZDAaDoUBhDJvBYDAYChTGsBkMBoOhQGEMm8HgoYhIdxE5KiKnRaSuu/VcKSLSUkSOXcH+n4rIK1dTk6FgUsTdAgyGyyEih4CBqrrCoexhu6z5VTh+KnCzqv6ZQ/3DwNfAJFV9xqH8XuBX4FtVffhKdWTDeOAJVZ17tQ4oIu2Al4C6wD/AXmCCqs67Wn1cDbL7+6rqEPcpMuQnjMdmMOSOv4BeIuJ4M/gQcOAa9nkjsCcvO4qITzZlPYGfgO+ASkBF4FWgSx6Of9FNcXZlBoM7MBeioUAgIkHA/4AWwGngA1WdbNc1Aj4EbgPOAj8DI1X1nIj8Zh9ih+25PaaqP2TTRbR93HbAQhEpB9wBTAP8HHT8BNwJlAB2AENVdY9d9w2Wl1QNaAKEAwNU9XCWz3IdcALwsXVFq2o1EbkNmAKEABHAC2meln3ss1jG8C7gXsDRw/UCJgJjVfULh+7W2C9ExBt4ERhk618CPKmqCSJSBfgbGAi8BhwSka/stpuBAcAUERkLvA30Aq4D5gDPqOrZrCdURMbY+/sDR4GXVHWO/Tk/BYqKyGkgWVXL2J/xmKq+bO8/CHgeKAesA4aoaqRdlwoMBUbZf58ZWN6vmWqpEGA8NkO+x/5Bno9lSIKBu4ERdtgNIAV4BqgANLXrhwGoagu7TR1VLZmDUUvjO6wfcIAHgbnAv1naLAZuxvqxDsf6QXWkLzDW1rI9m3pU9V9VLemgq5qIFLU/4zL72E8CM0REHHbtg2VUfLF+6B0R4AZg9iU+38P2qxVwE1AS+ChLm7uwbhDSzm1j4CCW9/c2MA64Bcv4Vsf6e7yaQ39/Yd0ElAbeAKaLSKCq7gOGABvsv0mZrDuKSGvgXSwDGggcBr7P0qwz0BCobbdrh6FQYDw2Q37hVxFJdtguhmU4wPrx8lPVN+3tgyLyOZbxWaqqWx32OyQiU7F+oCc5qWEO8IGIlMYycKOADo4NVPWrtPci8jpwSkRKq2qCXbxQVX+z618CEkTkBlU9epm+m2AZmnGqegFYJSILgN7A63abuar6u/3+nyz7l7f/j7pEH32Biap60Nb3ArBbRB5xaPO6qv6fXQ8Qqar/s7dTgMeB2qp60i57B5gJvJC1M1X9yWHzB7u/Rlg3DJejL/CVqoY7aD0lIlVU9ZDdZpyqxgPxIrIay9guycWxDfkcY9gM+YVu2SWP2Js3AkEiEu/Q3gdYa7e9BSsM1wC4Huu6dzR2uUJVz4rIQuBloLyq/i4i6YbNHtd6G7gfK/x1wa6qAKQZtqMOxzstIieBIMfyHAgCjtpGLY3DWB5RGpc6xgn7/0CskGJOfTiGRQ9jnauKl+jDcdsP6/xudXAkvbD+FhchIgOAkUAVu6gk1rnKDUFk3NikncsTWOfjkF0c7dD+jH18QyHAGDZDQeAo8Leq3pxD/RRgG9BbVZNEZATQM499fQeswgqdZaUP1tjWPVg/rqWBU1g/7mnckPZGREpijQ9F5qLfSOAGEfF2MG6VyZy8cqnxI8U6Tz2wsi1z6uNGh+3KQDIQg5Vskl0fjtvHscb5aqhqxCW0ICI3Ap9jhYU3qGqKiGwn41xdbiwsk1YR+Q+WV3rJfg2FA2PYDAWBzUCSiDwPTAbOYY0DlVDVMKwxp0TgtIjcipVUEOewfwzWmFK26f5ZWAO0wTKUWfHFGnM7geW5vJNNm44i0tzWPBbYmIswJMAmLK/jORGZADTDymZsmIt9UdVUERkJfGl7Nj9jJcPcgZXA8jgwC3heRBZjnZ93gB9UNTnzUF6OfVywQ8AfiMgTqhorIsFATVVdmqX5f7CMVxyAHe6s6VAfA1QSkWKqei6b7mYBs0RkJrDP1rrJIQxpKMSY5BFDvkdVU7ASBUKwwmzHgS+wPCaA0VjeVBKWl5A1QeR14FsRiReRXpfpK1VVV6aNIWXhO6zwXQTW82Ebs2kzEyur8CRQH+h3mY+X1u85LEPWAevzfYJlkPbnZn/7GLOBB4BHsTyeGOAtMsa0vsLK8vwN6zz+g5Wk4gzPY90gbBSRRKzMzIusoqruBSYAG2wdtYDfHZqswnrUIVpEjmez/wrgFSwDHYWVafqgk1oNBRQvs9CoweAasqarGwyGa4Px2AwGg8FQoDBjbAaDwWBwOSIyHiuZqQpQS1V3Z9PGB2vcvD3WmOy4LBMMZIsxbAaDi7hG80kaDPmVX7FmBFp7iTZ9sR70vxkr63WbiKy4XJKQCUUaDAaDweWo6rpcZAQ/AHyuqhdUNQ7LGN5/uWMbj81gMBgMVwURKQOUyaYq3p4Fxlkqk3nSgCM4PAuaE8aw5UPOHz/o9lTWEkF3ulsCAEW8s53UolDi5eV1+UbXmOSU5Ms3cgH+/ynjbglsP5Dd0x6ux8/P94ouDCd/b97Aepwlu/LXr0SHMxjDZjAYDIacuZDiTOtJwDfZlMfnsfcjWDPMhNnbWT24bDGGzWAwGAw544QXnjbp9FXs/SdgkIj8gpU80g1rRYhLYpJHDAaDwZAjqakXcv1yBhGZLCLHsOYhXSEiaesWLhKRBnazaVjLIv2BNZPPm6qa0yTe6ZiZR/IhZowtAzPGloEZY8vAjLFlcKVjbOeO7cr1702xSrXcfxFiQpEGg8FguBROemKegDFsBoPBYMgZ55JHPAJj2AwGg8GQM8ZjMxgMBkNBItVDxk2dwWRFXgVEpIqIPO5uHQAvvzORFp0epFu/IdnWp6am8s4HU+jQ61G6DxjKXs1YW3PuouV0fOAxOj7wGHMXLb9iLR9MfJP9e9cRvnU5dUNqZtumXt1abAtfwf696/hg4pvp5W+8/izhW5ezJWwZixfOJDCwYp40TJjwBnv2/EZY2FJCctBQt24ttmxZxp49vzFhQsbC2Pfd14nw8BWcOXOIevVq56l/T9Fg6Xid3bvXsHnzkkvoqElY2FJ2717DhAmvp5eXLVuaBQums2tXKAsWTKdMmVJ50vDBxDfZl8trYl+Wa2Lcuy+za9cawrcu56efvqB06bxpaHl3c37bvIB1WxczfMTAi+qLFSvKlC/Hs27rYuYvn0WlG4IAqHRDEH9GbmXZbz+z7LefGTfx1Tz1n++4cCH3Lw/BGLarQxXAIwxbt45t+HTiWznWr90QxpFjkSz64Utef+4pxo7/CICExCSmfD2TWZ9PYtbnk5jy9UwSEpPyrKND+9bcXL0qt97enKFDn+fjj97Ntt3HH73LkCHPcevtzbm5elXat2sFwPgJU6hXvw0NGrZl4aIVvPzSM05raNeuFdWrV6FGjRYMHz6GyZPfzrbd5MlvM2zY89So0YLq1avQtm1LAPbsUR544HHWrdvkdN+epCFNR7VqValZ8y6eeOIFJk/O/hqZPPlthg8fQ82ad1GtWtV0HaNHDyM09Hdq1WpJaOjvjB49zGkN7du3pnr1qtxmXxMf5XBNfGRfE7fd3pzq1avSzr4mVqz8jZCQ1tSr34Y//jjI888/4bQGb29v3n7/JfrdP4RWTbrSrUdHbpZqmdr07t+DhIREmtfvwOdTvuOl10em1x0+dJS2LXrQtkUPxox8M+vhCyapF3L/8hCMYXMSEbleRH4Skb0iskNEfgQ+Bm4Xke0iMttuJyKyWETC7HaPOBwjVUTesNuriPS4WvoahNSidCnfHOtXr9tI1/Z34+XlRZ2at5GUdJq44yf5fdNWmjasS+lSvpQu5UvThnX5fdPWPOvo0qUd02bMBmDT5nBKlylNQIB/pjYBAf74lvJl0+ZwAKbNmE3Xru0BSEo6nd7uP/+5nrw8ltKlS1tmzPgZgM2bt1GmTKlsNZQqVZLNm7cBMGPGz3Tt2g4A1T/544+DTvfraRoAOnduw8yZGTpKl85eh69vho6ZM3+mS5e26ftPn27tP316RrkzdO3SjulOXhPTZ8zmXvuaWLHiN1JSrESGTZvCqRQc6LSGuvVrcejgUY4cPsb58+eZ+8si2nVslalN2w6t+WmWtaj4wrnLaH5XE6f7KVBcSMn9y0Mwhs152gGlVPV2Va0DDAaGA3tVNURVe4pIEWAm8IyqNgSaA2NE5FaH46SoagjQFfhMRDJ/w68RMXEnCPCvkL5d0b8CMXHHiYk7ToC/X0a5n1WeV4KDAjh2NDJ9O+JYFMFBARe1iTgWlWObsW8+z99/hdG7d3def+N9pzUEBQVwzPH4EdEEZdEQFBRARET0JdtcCZ6gIUOHw98jIpqgoIpZ2lTMoiMqXYe/fwWio2MBiI6Oxd/hGnJKg5PXxLFjUdmei4cffpAlS1c7rSEgsCKRERnHj4qMISBLmDsgyJ9I+zykpKSQmJhE2XJlAKhcOZila2Yze8E3NGpaz+n+8yXGYysU7ABuE5GPReR+4N9s2twC3AZ8LyLbsdYbus4uS+NLAFVVIBwo5LeFF/PKq/+larWGzJo1h+HDHrn8DgaX4c55HcaMeYrk5GRmzvzFpf3GxsTRqNY9tLurJ2+89B4ff/4eJX3/41INbiElOfcvD8EYNidR1YNADWA5cA+WoSuepZkXcNz24NJeVVR1jovlXkRFv/JEx2Z4YjGxx6noV4GKfhWIjo3LKI+zyp1h6JCH2BK2jC1hy4iKjkkfdAcIrhRIRGR0pvYRkdEEVwq8ZBuAmbN+oXv3jrnSMHjwADZtWsymTYuJjo6lkuPxgwOIzHL8yMhogoMDLtnGWTxBQ5qOjRsXsXHjIluHw98jOIDIyJgsOmKy6AhM1xEbezw9bBgQ4E9cLr15x2siOg/XRKVKgZnOxYD+vejU8R4GDHB+fA0gOiqGIIcQZmBQRaKjMp+H6MhYguzz4OPjQ6lSvpw6Gc+5c+c5dSoBgF079nLo76PcVK1KnnTkK0zySMFHRCphhRF/BZ4B/IBEoLRDMwXOiEh/h/1uFRHHNK5H7PKbgbpY86Bdc1o2b8K8JStJTU1lx+59lCz5H/wqlKNZ4/qs3xxOQmISCYlJrN8cTrPG9Z069pRPv6VBw7Y0aNiWefOW0r9vTwAaN6pHYkJieigrjejoWJISk2jcyArp9O/bk/nzlwJQvXrV9HZdu7RD9a9caZg69TsaN+5A48YdmDdvKX37WsOXjRrVJSEhKVsNiYmnadSoLgB9+/Zg/vxlTn1uT9SQpqNJk440adKR+fOX0adPho7ExOx1JCVl6OjTpwcLFljZsQsXrqBfP2v/fv0yyi+H4zUxd95S+jl5TfTr25N59jXRtm1LRo0eSvf7Hubs2X/yckrYHr6bqtUqc0PlYIoWLcq993Vk2eLMIc1lS1Zzf+97Aeh0b1t+/81K3ClXvize3tZPZuUbK1H1phs5cuhYnnTkJ1JTU3L98hTMXJFOIiIdgHH2pg/WJJ0TsFZ2rQLst8fZbsZawuEGu10M0EtVj4tIKtb6RPcC1wMvqurPudVwqbkin31tHGHbdhIfn0j5cmUY9lh/kpOtEMED3TuRmprK2xM/Yd3GLZQoXpyxLz5DzdtuAeCXBUv5/LsfAHj8oQfp3innBIHczBU5+cO3ade2JWfOnmXgwJFsDd8JwJawZTRoaB27fr3afPnlB5QoXpwlS1fz9IiXAfjxh8+45ZZqXLhwgSNHIhg2fEy2Xszl5oqcNGksbdu25MyZszz++GjCbQ2bNi2mceMOANSrV5vPP59AiRLFWbp0Nc88Y6Vxd+3ajokT38TPrxzx8Yns3LmXLl3659iXuzVcbq7IDz4YS9u2d3HmzFkGDx5NePguADZuXESTJh1tHbX47DNLx7Jloek6ypUrw/Tpn3DDDUEcORJBv37D0r0XRy43V+TkD9+mbduWnL3MNfGFfU0sdbgm9u1dx3XXXcfJk6fs8xfO8CfGZNvPpeaKbN3mTt54ZwzePt78MGMOkyd8xugXnmDH9j0sX7ya664rxuRPx1Gj9m3En0pg2GOjOXL4GB27tGH0C0+QnJzMhQsXmDDuY5YvCc2xn4IyV+Q/2xfk2kgUD+nsEXNFGsPmBmzD5quqpy/bOBvMJMgZmEmQMzCTIGdgJkHO4IoNW/i83Bu2el3dfxFiZh4xGAwGw6XwoGzH3GIMmxtQVY+4qzEYDIbLknLe3Qqcxhg2g8FgMOSMB2U75hZj2AwGg8GQMyYUaTAYDIYChfHYDAaDwVCgMIbNYDAYDAWJVJM8YjAYDIYChRljMxgMBkOBwoQiDa7AE2b9OBu51t0SAChb+W53SyAVt08EA0B3P/cvoyKUcLcEABYlR16+kSF3GI/NYDAYDAUK47EZDAaDoUBhPDaDwWAwFCiSPWNia2cwhs1gMBgMOWM8NoPBYDAUKMwYm8FgMBgKFMZjMxgMBkOBwnhsBoPBYChQ5EOPzdvdAgozIjJCRPyv9nE/mPgm+/euI3zrcuqG1My2Tb26tdgWvoL9e9fxwcQ308vfeP1ZwrcuZ0vYMhYvnElgYEWn+3/5nYm06PQg3foNybY+NTWVdz6YQodej9J9wFD26p/pdXMXLafjA4/R8YHHmLtoudN9O3JPmxaEb1/Jjl2rGTnqYi3FihXj2+/+x45dq1m9Zg6VKwen140aPZQdu1YTvn0ld9/T4op0ALw//jV27gpl06bFhITUyLZNSN2abN68hJ27Qnl//Gvp5WXLlmb+/Gns2Lma+fOnUaZMKaf7r31XXd5f9T8mrPmYLkO7X1TfYWAX/rviQ95ZMpEXZr5O+WA/ACrfXoXX5rzLuOWTeGfJRBp3buZ032lUu6s2w1a9z/A1E7hjaJeL6uv1vZvBS8cxaNE7PDT7VSrcbP09SpQpSf/vX+L5vV/S/s2H8tx/Gk1aNuT7377lp3XT6T+890X1IY1r882Sqaw9vIJWnTL+9gHBFflmyVS+XfY5M1Z9Tff+F3+GAklycu5fHoIxbO5lBHBVDVuH9q25uXpVbr29OUOHPs/HH72bbbuPP3qXIUOe49bbm3Nz9aq0b9cKgPETplCvfhsaNGzLwkUrePmlZ5zW0K1jGz6d+FaO9Ws3hHHkWCSLfviS1597irHjPwIgITGJKV/PZNbnk5j1+SSmfD2ThMQkp/sH8Pb2ZuIHb3Jft4dpUK8t99/flVtvrZ6pzUMP9yI+PoE6tVrx8f++ZOxbYwC49dbq9OzZhYb129H93of4YNKbeHvn/avSrl1LqlevSu1aLXniiReZ9OHb2bb78MO3GD78BWrXstq3bdsSgFGjhhIaup46tVsRGrqeUaOGOdW/l7c3D40dxHsPvcVz9zxNk653EnRzpUxtDu35m1c6P8uL7UeyedEGer8wAIBzZ//l02cmM6bNCN4bMJb+rz3K9aWud/oceHl70X7sw8x86D2m3PMcNbs2TTdcaeyeu56p7cbweccX2fDpAtq83BeA5H/PEzr+J5a/PdPpfrPi7e3NqLefZmS/MfRu9TBtut1NlZtvzNQmOiKGsc/8l+W/rsxUfjz2BIO6PsFDbQcxsPNQ+g/vQ4WK5a9Yk8eTmpr7l4dQaAybiMwQkS0isktE5ohIWRFpKSI7RORzuzxcRGqIyI8isldElorIf+z9S4rI1yKy234953DsQyJSM7tt+/2bIrLBfv+EXf4SEATMFpHtInL71ficXbq0Y9qM2QBs2hxO6TKlCQjIbDsDAvzxLeXLps3hAEybMZuuXdsDkJR0Or3df/5zPal5uFgbhNSidCnfHOtXr9tI1/Z34+XlRZ2at5GUdJq44yf5fdNWmjasS+lSvpQu5UvThnX5fdNWp/sHaNCgDgf/OsyhQ0c5f/48s2fPp1PnNpnadOrUhhnTfwZgzpzFtGx5h1XeuQ2zZ8/n3LlzHD58jIN/HaZBgzp50mEdry0zZ/wCQFjYNkqX9iUgwC9Tm4AAP3x9fQkL2wbAzBm/0LlL23Q9M+y/6YwZs+ncJfPnuBzVQqoTcyiKuKMxpJxPZuP8ddRv0yhTm30bdnPun3MA/LntAOUCrR/s6L+jiDkUBUB87CkSjifgW660U/0DBIVU49ShGOKPxnHhfAp75m9E2tTP1Obc6bPp74tef136+/Nn/+XolgMk/3vls8zfXvdWjh2KJPJIFMnnk1kxdxUt2mX2QqOPxfDXvoNcyDK2lHw+mfPnLA1FryuGl7fXFevJF1y4kPuXh1CYxtieVtXjACLyFvA8sAS4HXhIVQeJyMfAUqCJqh4TkUVAb+AL4BWsG4FagC+wQUR2qeriXPR9vao2FZEqwG4R+UZV3xaRQUBPVd19tT5kcFAAx45mzJMXcSyK4KAAoqNjM7WJOBZ1UZs0xr75PP369iQhMZF72tx/taSlExN3ggD/CunbFf0rEBN3nJi44wT4Z/zgV/SzyvNCUFAAxyIcPmNENA0bhmRpUzG9TUpKCgmJSZQvX5agoAA2b96WsW9kFEEO58d5LRU5dizjbxIZEU1gUADR0XHpZYFBAURm0htFUJAVBvb390tvGx0dh79/ZqN4OcoGlOdk1In07ZNRJ6hW9+Yc29/1wN3sCA2/qPymOtUpUqwIsYejneofoFRAORIdNCRGnSS4brWL2jUY0IbGAzvgU7QI03tn79leCX4BFYiNzPguxEbFUaPubbne3z/IjwnfvkulqsF8NHYqx2NOXH6n/M41MlgicgvwLVAeOAEMUNU/srTxB74GbgCKAquBp1T1knHPQuOxAQNEZKuI7AL6ACF2uarqdvt9OLBdVY/Z21uBtPjVPcDnqpqqqonALLssN3xvd3QIOAVUumRrN/PKq/+larWGzJo1h+HDHnG3HEMW8uJF55Zm3VtwU63qLJz6a6byMv5lGfrB03w2+qNr2v+W75bzcYuRrBr3Pc2f7HbN+skrsZFx9G8zkPub9aPj/W0pW6GsuyVde1Iv5P7lHJ8CH6vqLcDHwNRs2rwI7FPV2kBtoD5w3+UOXCgMm4jcCQwF2qtqLeBloLhd/Y9D05RstnPj1SaT+VwWz1Kfl2PmmqFDHmJL2DK2hC0jKjqGSjcEpdcFVwokIjLzHXZEZDTBlQIv2QZg5qxf6N6949WUCkBFv/JEx2Z4YjGxx6noV4GKfhWIjs3wYmLirPK8EBkZTaVgh88YHEBkls8YGRmT3sbHx4fSpXw5ceKUta/j+QkKvGjfy/H44P5s2LiIDRsXER0dS6VKGX+ToOAAorIcLyoymqBMegOJjIwBIDY2Lj10GRDgR5yTXuyp6BPpoUWAcoHlORV98qJ2NZrVpusTPZk48F2Sz2XcEJcoWYLRX7/Ej+Nn8te2A071nUZi9ElKOWgoFViOpOhTObbfPW8D0rZBnvq6FHHRx/EPygjN+wf6ERftfFTgeMwJDuohQhrXupryPJOUlFy/RKSMiFTJ5lXG8ZC2J1YPy0HA/r+eiGQNR6QCviLiDVwHFAMiLie5UBg2oAyQAJwQkeuAR/NwjBXAYyLiJSK+wINAWtren0BDABG5G8htKmEi4PyARRamfPotDRq2pUHDtsybt5T+fXsC0LhRPRITEjOFIQGio2NJSkyicSNrmZP+fXsyf/5SAKpXr5rermuXdqj+daXyLqJl8ybMW7KS1NRUduzeR8mS/8GvQjmaNa7P+s3hJCQmkZCYxPrN4TRrXP/yB8yGrVt3Uq16FW68sRJFixalZ88uLFq4IlObRYtW0LdfDwC6d+/AmjUbrPKFK+jZswvFihXjxhsrUa16FbZs2eFU/59NnUbTJh1p2qQj8+cvo09f6yazYcO6JCYmZQpDghViTEpKomHDugD06XsfCxcsS9fT1/6b9u3bk4ULnMsWPbjjTwKqBuJ3gz8+RYvQpEtzwpeHZWpzY42qPPruECY+9i6JJxLSy32KFmHEZ8+z9udQwhZtcKpfRyJ3HKRc1QDK3OCHd1EfanRpwoHlmcdPy1XJ+Nrc3DqEk4ecD3lejn3b93ND1WACbwigSNEi3HNva9YuW5+rff0CK3Bd8WIA+JYuSe1GNTny19GrrtHjcG6MbQTwdzavEVmOegMQoaopAPb/kXa5I2OBW4AoIBpYqqq/X05yYRljWwL0Aw4Ax4HfgEaX3ONixgIfAbvs7WmqusR+/wrwrYg8CawCjuTymJOBr0XkDNBHVfc6qekiFi1eSfv2rdF9v3Pm7FkGDhyZXrclbBkNGloJCU88+SJffvkBJYoXZ8nS1SxesgqAd95+gVtuqcaFCxc4ciSCYcPHOK3h2dfGEbZtJ/HxidzdrR/DHutPsp0K/ED3TrRo2pC1G8Lo0OtRShQvztgXrczL0qV8Gfxwbx4c+DQAQx7pc8kklEuRkpLCqJGv8eu87/Dx8Wbadz+xb98fvPzKM4SH72LRwhV8+80PfPHlB+zYtZpTpxJ4eMCTAOzb9we//LKQLeHLSE5OYeQzr16USOAMS5espl27VuzavYazZ84yeMiz6XUbNi6iaRPLKx4x4hU+mzqe4iWKs2xZKEuXhgIwYcIUpk37mAEP9eLokQj69x/uVP8XUi7w7atf8Nx3r+Lt482aH1cS8cdReox8kL93/kX4ijB6vziA4tcX56lPRgNwIvI4Ewe+S5POdyCNbqdkGV9a9LQyZ6eO/h9H9h5ySkNqygWWvPoNfb57Hi8fb3b8uIa4PyK4a2QPonb+zYEV4TR4qC03Na9JyvkU/kn8P+aN/DR9/yfXTeI63xL4FC2CtG3AjP7jOP7HZW/cLyIl5QITXp7MpJnv4e3tzYIfFvP3gUMMGv0I+3Yo65av57Y6wrgvx+JbuiTN2zRl4KhH6Nv6EapUv5GnXh1KKuAFzPz0R/7a/7fTGvIdzl37k4BvsimPz2Pv9wM7gbuxchsWi0hPVZ19qZ28rmW83HBtKFIs2O1/NLPQaAZmodEMzEKjGczbPs/dEgDw8/O9ovTNs1+MzPUFXmLgxFz1ZYciDwDlVTVFRHywEkhuVtU4h3a7gUdVdbO9/TxQWVUveXdXWEKRBoPBYMgDqRdSc/3KLaoaC2zHyjrH/n+bo1Gz+RtoDyAixbAS9i6bRW4Mm8FgMBhy5to9xzYEeFJEDgBP2tuIyCIRScscGgHcaWezb8fy8j6/3IELyxibwWAwGPJCSso1Oayq7gcaZ1Pe0eH9X4BzMxJgDJvBYDAYLoUHzSiSW4xhMxgMBkPOGMNmMBgMhgJFPsycN4bNYDAYDDljPDaDwWAwFCicSOP3FIxhMxgMBkPOXKOsyGuJMWz5kCLePu6W4BEzfgCcOrLy8o0KCXVr9HG3BNan/OtuCQDEnol3t4QCQ6oJRRoMBoOhQGFCkQaDwWAoUDi/zprbMYbNYDAYDDljPDaDwWAwFCiSTfKIwWAwGAoSJhRpMBgMhgKFCUUaDAaDoSBh0v0NBoPBULDIhx6bSxYaFZGWIrIlh7oqInI863snj/+wiMy+Up15QUTuFJF1InJARA6KyFciUtYdWtKYMOEN9uz5jbCwpYSE1My2Td26tdiyZRl79vzGhAlvpJffd18nwsNXcObMIerVq51nDfe0aUH49pXs2LWakaOGXFRfrFgxvv3uf+zYtZrVa+ZQuXJwet2o0UPZsWs14dtXcvc9LfLU/8vvTKRFpwfp1u/ivgFSU1N554MpdOj1KN0HDGWv/pleN3fRcjo+8BgdH3iMuYuW56l/T9PRrFUT5v/+A4s2/sRjT/a/qL5osaKM/+wtFm38iZmLvyTohkAAihQtwthJL/NL6HR+XjWNhnfUy7OGFq3vYMXGOazaPJchTz1yUX2xYkWZ/MU4Vm2eyy9LvyPY1gBw6+03M3vxtyxZN5vFv/1IseuK5VmHu6/NfMeF1Ny/PASzgvYVICLVgV+Al1T1FqA6kAD8lEP7a+4ht2vXiurVq1CjRguGDx/D5MlvZ9tu8uS3GTbseWrUaEH16lVo27YlAHv2KA888Djr1m3KswZvb28mfvAm93V7mAb12nL//V259dbqmdo89HAv4uMTqFOrFR//70vGvjUGgFtvrU7Pnl1oWL8d3e99iA8mvYm3t/OXabeObfh04ls51q/dEMaRY5Es+uFLXn/uKcaO/wiAhMQkpnw9k1mfT2LW55OY8vVMEhKTnO7fk3R4e3vz8rjRDO3zDF3v7E3H7m256ZYqmdrc16crifGJdGxyP9OmzmLkK8MB6NnvXqu+ZT8G9XqK0a8/hZeXV540vPHfMTzywBO0a9aDLve1p/otN2Vq06tvNxLjk2jd6F6++nQGz7/2NAA+Pj5MnPIWL49+m/bNe9L73kEkn0/Ow5nwjGsz35GSkvuXh3DVf2hFpD3wLuADxAGDs2kzHHgGSAQWZlM/AWvVVC9gmKqutY3CQqA8UALYDAxW1XNZ9g0AZgGlgOLAQlV9zq57HRCgNHAT8Bdwv6qeEZFiwDtAeyAFOKiq3e39ngd6YJ2vCGCQqkYDLwJfquoaAFW9ICLPAQdF5E5b9yHge6A1sEtERgJfATXsY0UAsao6Otcn+RJ06dKWGTN+BmDz5m2UKVOKgAB/oqNj09sEBPhTqlRJNm/eBsCMGT/TtWs7li0LRR08hrzSoEEdDv51mEOHjgIwe/Z8OnVuw/79Gcfu1KkN77w9CYA5cxYzYaLlNXbq3IbZs+dz7tw5Dh8+xsG/DtOgQZ10rbnWEFKLiKiYHOtXr9tI1/Z34+XlRZ2at5GUdJq44ycJ27aTpg3rUrqULwBNG9bl901b6dimpVP9e5KOWvVu58jfxzh2OBKAxb8up3X7Fhw8cCi9Tev2d/LJ+C8AWDZ/NS++Y12O1W6pyuZ1VrDl5PFTJCUmUSPkNnZv2+uUhjr1anL476McPRwBwII5S2nToSV/HjiY3uaeDi358L2plsZ5K3h93PMA3NmqKfv3/sH+PQcAiD+V4OwpSMcTrs38RqoHeWK55areboiIPzAN6KuqtYGZwIwsbWoDLwHNVLUelqFypDyww97/SWCWiFyHZWz6qGoDoCaW4Xw0GxnxQBdVrQ+EAA1sY5tGA6APcBtQFOhrl7+AZezqqWodYJCttx9QDWhi610ETLD3qQ1sdOxcVc8D4UAdh+JSqtpIVR8DXgVOqeqtwP3Andl8hjwTFBTAsWNR6dsREdEEBQVc1CYiIvqSba5YQ8TlNFRMb5OSkkJCYhLly5e9WH9k1FXVlkZM3AkC/Cukb1f0r0BM3HFi4o4T4O+XUe5nlV8rXKHDP8CP6MiMG5uYyFj8A/wytwn0IzrCMsApKSmcTjpNmXKl0b1/0LLdnfj4+BBcOZDba99KQFBFpzUEBPoTFZlh4KMiY6gYmFlDxUB/ouzrMiUlhaTE05QtV4aq1SqTmprKNz9+zLxVM3n8yYec7j+N/HBtehz5MBR5tT22xlhGKe127mvgE8DXoU1LLC8q7Sr/DOjlUH8OmA6gqqEichbLy9oDjBaRDlhGrSxwJhsNPsD7InIHlscXgGXgltj1S1U1HkBENmEZLYDOwKg0D1BV035FumIZw3ARAeucpd0y5jYm853D+1ZYBhtVPSkiv+byGAaDy5kzcwE33VyFH5Z9TeSxaLaH7eLCBdeGnHyK+NCgcV26tenH2bP/MP2Xqezevo/1aze7VEehJR9mReanAHEfoDlwp6rWwjKYxbNpNxLL6DW2vb5fs7T7x+F9Cpc37l7AW6oaYr9qqmozu24H0MSxsYgUBeoBOx2KT1+mjyti8OABbNq0mE2bFhMdHUulShmD7sHBAURGRmdqHxkZTXBwwCXbXAmRkdFUCr6chpj0Nj4+PpQu5cuJE6esfR31BwVeVW1pVPQrT3RshgcUE3ucin4VqOhXgejYuIzyOKv8WuEKHbHRcQQE+Wf0GeRPbHRc5jZRcQQEW56Yj48PJX1LEn8ygZSUFN579UN63j2Apx56jlKlS3LoryNOa4iOiiXQwdMLDKpITFRmDTFRsQTa16WPjw++pUpy6mQ80ZGxbN4QzqmT8fxz9h9CV6yjRp1bndYA+ePa9Djyocd2tQ3bRqCOiKRddQ8B2wDHUe9QoKMdtgR4LMsximEZMUTkTqzxtP1AGeC4qiaJSOm0NtlQBohS1X9EJBi4N5faFwAj7LE2RCTtV2QeMCwt01FErhORtDDjOGCgiNxl13kD7wF/qOpvOfQTCgyw25dxQl+OTJ36HY0bd6Bx4w7Mm7eUvn17ANCoUV0SEpIyja8BREfHkph4mkaN6gLQt28P5s9fdqUy0tm6dSfVqlfhxhsrUbRoUXr27MKihSsytVm0aAV9+1k6u3fvwJo1G6zyhSvo2bMLxYoV48YbK1GtehW2bNlx1bSl0bJ5E+YtWUlqaio7du+jZMn/4FehHM0a12f95nASEpNISExi/eZwmjWuf9X7d6WO3dv2UfmmGwiuHEiRokXo0K0Nq5euzdRm9dK13NurIwBtu7Rikz2uVrzEdZS43rovbNqiEcnJKZnG5nLLzm17qHJTZSpVDqJo0SJ07t6OFUtCM7VZuWQNPR7sAkCHrvewYW0YAL+tWo/cXp3iJYrj4+ND4zvq86cezNpFrsgP16bHkQ8N21UNRapqnIj0B2bayR5xQD+gkkObnSLyDvC7iCRijVk5cgIIsZMwvIDeqnpORL4D7hWR/UAssBbL6GVlMvCTiOwGjgG5XbBrHFbSy3YROQf8CfRU1Wm2kVtjhyK9sbzFHap6QER6AO/abYoCa4Cel+jnTeBr+3NEAVvICG1eMUuWrKJ9+1bs3buWM2fO8vjjGTkpmzYtpnHjDgA8/fTLfP75BEqUKM7SpatZunQ1AF27tmPixDfx8yvHnDlfs3PnXrp0uTg9/FKkpKQwauRr/DrvO3x8vJn23U/s2/cHL7/yDOHhu1i0cAXffvMDX3z5ATt2rebUqQQeHvAkAPv2/cEvvyxkS/gykpNTGPnMq1zIQyjk2dfGEbZtJ/HxidzdrR/DHutPcrKVSfdA9060aNqQtRvC6NDrUUoUL87YF58BoHQpXwY/3JsHB1oZeUMe6ZOewJEXPEFHSkoK77wwnqnff4iPjzdzZi3gL/2b4c8NYs+O/YQuXcsvM+fz7kevsWjjTyTEJ/Ls4FcAKFehHFO/n0TqhVRiouN44Yk3LtNbzhpeH/Nfvv3pE7y9vflp5lz+0IOMGDOUXdv3snLJGn6Y8SsTP3mLVZvnkhCfyFODrGzExIQkvpwynV+XTyc1NZXQFetYvXxdnnW4+9rMb6Sm5L/P6JWa6jlWtjBghyp9bI+yFLAOGKmqKy6zazrFi1d2+x/NExY7BbPQqCOesNDoGbPQaDp/H955+UYuwM/P1/nnMxxIfKxNrn9vSn25/Ir6ulqYmUdcT1lgsYj4YI39zXTGqBkMBoMryY/p/sawuRhVjQWu3aCNwWAwXE2MYTMYDAZDgSL/DbEZw2YwGAyGnElNzn+WzRg2g8FgMORM/rNrxrAZDAaDIWdM8ojBYDAYChbGYzMYDAZDQcJ4bAaDwWAoWBiPzVBYSCX/3cUVdLzzsABoQSXZxSsQFGRS87am62URkVuAb7GWKjsBDFDVP7Jp1wt4BWuKxVTgHofVYbIlP83ubzAYDAYXk3oh9y8n+RT4WFVvAT4GpmZtICINgNeBNqpaE2uFl8vOrWsMm8FgMBhy5oITr1xir+5SD5hlF80C6omIX5amzwDjVTUaQFUTVPUfLoMJRRoMBoMhR5zxxOyluMpkUxWftsCzzQ1AhKqmAKhqiohE2uWOC/XdDvwtIr8BJYFfgLdV9ZJjIcZjMxgMBkOOOBmKHAH8nc1rRB679wFqA22Au4AOwGXX0TIem8FgMBhyJDXFqaSkScA32ZTHZ9k+CgSLiI/trfkAQXa5I0eA2ar6L/CviMwFGgHfXUqEMWwGg8FgyBFnQpF2uDE+F+1iRWQ70BuYbv+/TVXjsjSdCXQUkWlY9upuYPbljm9CkQaDwWDIkdQLXrl+OckQ4EkROQA8aW8jIovsbEiA74FYYC+wHdgDfHm5AxuPzWAwGAw5koc0/lyhqvuBxtmUd3R4fwEYab9yjds9NhGpIiLH87DfwyJyWZf0WiAid4rIOhE5ICIHReQrESl7ifYNRGSGq/RNmPAGe/b8RljYUkJCambbpm7dWmzZsow9e35jwoQ30svvu68T4eErOHPmEPXq1b4iHe+Pf42du0LZtGkxISE1sm0TUrcmmzcvYeeuUN4f/1p6edmypZk/fxo7dq5m/vxplClTyqm+X35nIi06PUi3fkOyrU9NTeWdD6bQodejdB8wlL36Z3rd3EXL6fjAY3R84DHmLlruVL+eqqNZqybMW/c9Czb8xKNPXDz2Xr9JCD8s+4bwY2tp07lVprquvToyf/2PzF//I117dbxo39zSovUdrNg4h1Wb5zLkqUcuqi9WrCiTvxjHqs1z+WXpdwTfEJhed+vtNzN78bcsWTebxb/9SLHriuVZB3jOdyQ/kJrqleuXp+B2w5bfEJHqWCmnL9kPFlbHemDwpxzaF1HVLara1xX62rVrRfXqVahRowXDh49h8uS3s203efLbDBv2PDVqtKB69Sq0bdsSgD17lAceeJx16zZdoY6WVK9eldq1WvLEEy8y6cPsdXz44VsMH/4CtWtZ7dN0jBo1lNDQ9dSp3YrQ0PWMGjXMqf67dWzDpxPfyrF+7YYwjhyLZNEPX/L6c08xdvxHACQkJjHl65nM+nwSsz6fxJSvZ5KQmORU356mw9vbmxffHcXQPiPp1qI3Hbq34aZbqmRqExURzctPj2XxnMwGtFSZUgwZ9Sh9Ow6kT4fHGDLqUXxL++ZJwxv/HcMjDzxBu2Y96HJfe6rfclOmNr36diMxPonWje7lq09n8PxrTwPg4+PDxClv8fLot2nfvCe97x1E8vm8T4fhKd+R/MI1fED7mpHrUKSIpAIvAd2xpkB5VlV/tusaA+OAtNvqV1V1oYi8C5xU1fftaVG+BwLsgcNFWBk0B+xjTMBK6fQChqnqWhEpAiy0+ysBbAYGq+q5LNoCsB7wKwUUBxaq6nN23euAAKWBm4C/gPtV9YyIFAPeAdoDKcBBVe1u7/c80MM+RxHAIPshwReBL1V1DViusog8BxwUkTtt3Yfsz9oa2GUPfI5X1Qb2sZ8AnsYaZF0EDFfVCrn9W1yKLl3aMmPGzwBs3ryNMmVKERDgT3R0bHqbgAB/SpUqyebN2wCYMeNnunZtx7JloaiDx3AldOrclpkzfgEgLGwbpUv7EhDgR3R0xthwQIAfvr6+hIVZOmbO+IXOXdqybFkonTq3oUP7B219s1m85HteeWVcrvtvEFKLiKicZ91ZvW4jXdvfjZeXF3Vq3kZS0mnijp8kbNtOmjasS+lS1o9304Z1+X3TVjq2aensKfAYHTXr3s6Rv48RcSQSgCW/rqBVuxYcPHAovU3k0WgALlzI/OvUrGVjNqwJIzE+EYANa8Jo3qoJi391zoOsU68mh/8+ytHDEQAsmLOUNh1a8ueBg+lt7unQkg/fsyafWDxvBa+Pex6AO1s1Zf/eP9i/5wAA8acuO/HEJfGU70h+4YJzWZEegbMeW6KqNsR6jmAypD+Q9ynQR1XrA52BqXb5SqwsFuz/NwKtRaQoVmx1nV1XHtihqrWxBhFnich1WMamj20QamI90/BoNrrigS52/yFAAxFp71DfAOgD3AYUBdK8pxewjF09Va0DDLI/Uz+gGtBEVethGZ8J9j617c+RjqqeB8KBOg7FpVS1kao+5thWRGrb/d5hn8sy2XyePBMUFMCxY1Hp2xER0QQFBVzUJiIi+pJtrlxHRY4di0zfjoyIJjBLH4FBAURGOGqNIiioIgD+/hlGMDo6Dn//rBMSXBkxcScI8M+4l6joX4GYuOPExB0nwKGvin5W+bXCFToqBvoRE5nxox0TFYt/YO7Op3+gH9GRGYbZmX0dCQj0J8rhOFGRMVTMcpyKgf5E2ddlSkoKSYmnKVuuDFWrVSY1NZVvfvyYeatm8viTDzndvyOe8h3JL1zD5JFrhrPJI9/b/28EgkSkOHAHUBVYLCJp7VKxQnS/Az/YnlEzYDTQE8sD2m17TQDnsFI+UdVQETmL5WXtAUaLSAcso1YWOJONLh/gfRG5A8vjC8AycEvs+qVpT72LyCYsowWWER6V5gGqatovR1csYxhu6ytCxvxkuf3r5fScRUtgkUNa61dkGFpDDqSmmkmXCys+RXxo0Lgu3dr04+zZf5j+y1R2b9/H+rWb3S2tUOBJBiu3OOux/QPW9Cf2dhGsH/qdqhri8LrBHlc6C+zEekYhClgNNMXy3lbmor8+WJNe3qmqtYBPsEKNWRmJZfQa217fr1naOc4tlsLlDboX8JbD56mpqs3suh1AE8fGtgdaD+uzpnH6Mn1cNQYPHsCmTYvZtGkx0dGxVKqUMegeHBxAZGR0pvaRkdEEBwdcsk1eeHxwfzZsXMSGjYtsHUHpdUHBAURl6SMqMpqgYEetgUTad/WxsXEEBFh39AEBfsRdZa+pol95omMzjhkTe5yKfhWo6FeB6NiMcGlMnFV+rXCFjpioOCoG+Wf0GehPbFTWx4WyJzYqjgDbi3Z2X0eio2IJdDhOYFBFYrIcJyYqlkD7uvTx8cG3VElOnYwnOjKWzRvCOXUynn/O/kPoinXUqHOrU/17ynckP5KamvuXp3A1kkfWAzeLSHoqlYg0FJE0M78SeANYaT89fgx4mMyGrRiWEUNE7sQaT9uPFaY7rqpJIlI6rU02lAGiVPUfEQkG7s2l9gXACNujRETSfjnmAcPSMh1F5DoRSQszjgMGishddp038B7wh6r+los+1wAdHPq6srgKMHXqdzRu3IHGjTswb95S+vbtAUCjRnVJSEjKNHYAEB0dS2LiaRo1qgtA3749mD9/2ZXK4LOp02japCNNm3Rk/vxl9Ol7HwANG9YlMTEp0/iapSOOpKQkGja0dPTpex8LF1g6Fi1cQd++PW19PVm44MqyArPSsnkT5i1ZSWpqKjt276Nkyf/gV6EczRrXZ/3mcBISk0hITGL95nCaNa5/Vft2tY492/dx4003EFw5kCJFi9C+2z2ELlubq31/D93EHS0b4VvaF9/SvtzRshG/hzqfNLFz2x6q3FSZSpWDKFq0CJ27t2PFktBMbVYuWUOPB7sA0KHrPWxYGwbAb6vWI7dXp3iJ4vj4+ND4jvr8qQezdnFJPOU7kh8pDKHIi1DVUyLSFSsUOAnLSB0EumCFJFcCY8kwZCuxwpeOcYQTQIidhOEF9FbVcyLyHXCviOzHekhvLZbRy8pk4CcR2Y1lOHPjDYJlpN4FtovIOeBPoKeqTrMNzxo7FOmN5S3uUNUDItIDeNduUxTLWPXMTYequkNE3gM2iEiirfXKRsMdWLJkFe3bt2Lv3rWcOXOWxx8fnV63adNiGjfuAMDTT7/M559PoESJ4ixdupqlS1cD0LVrOyZOfBM/v3LMmfM1O3fupUuXy07NdhFLl6ymXbtW7Nq9hrNnzjJ4yLPpdRs2LqJpEyttfMSIV/hs6niKlyjOsmWhLF0aCsCECVOYNu1jBjzUi6NHIujff7hT/T/72jjCtu0kPj6Ru7v1Y9hj/UlOtjLpHujeiRZNG7J2Qxgdej1KieLFGfviMwCULuXL4Id78+BAKyNvyCN90hM48oIn6EhJSeGdFycwZdYkfHy8+XXWAv7Svxn23CD2bt9H6LJ11Ai5jUlfjaNUGV/uatOcoc8O5L67+pIYn8jUD75m1pKvAPh04lfpiSTOanh9zH/59qdP8Pb25qeZc/lDDzJizFB2bd/LyiVr+GHGr0z85C1WbZ5LQnwiTw0aA0BiQhJfTpnOr8unk5qaSuiKdaxevu4yPeaMp3xH8guelMafW7zM2IXrERFfVU2y378OVFfVfrndv3jxym7/o/l4e8aTIvFHVrlbgsdQv6b7h2pPJ192RRGXEHn6hLslcPToHndLAMDPz/eKLNOB29rn+vfmln1LPMIKmplH3MM4EWlGhnf7uJv1GAwGQ7bkR4/NGDY3oKrOxdUMBoPBTXjS2FluMYbNYDAYDDmSH0erjGEzGAwGQ44Yj81gMBgMBYqUC56RKOYMxrAZDAaDIUdMKNJgMBgMBYoLJivSYDAYDAUJk+5vMBgMhgKFCUUaDAaDoUBhQpEGl+Dl5f4LrbtfPXdLAKBujZzmxXYd3h7w9wDYunuGuyWQ+s//uVsCAKWqd3K3hAKDyYo0GAwGQ4EiH0YijWEzGAwGQ86YUKTBYDAYChQmK9JgMBgMBYoL7haQB4xhMxgMBkOOpGI8NoPBYDAUIJJNKNJgMBgMBQnjsRkMBoOhQJEfx9iu+pN3ItJSRLbkUFdFRI5nfe/k8R8WkdlXqjOP/caLyDYR2SciO0TkNREpcQXHDBGRXldTJ8CECa+ze/caNm9eQkhIzWzb1K1bk7CwpezevYYJE15PLy9btjQLFkxn165QFiyYTpkypZzuv/ZddXl/1f+YsOZjugztflF9h4Fd+O+KD3lnyURemPk65YP9AKh8exVem/Mu45ZP4p0lE2ncuZnTfTvSrFUT5v/+A4s2/sRjT/a/qL5osaKM/+wtFm38iZmLvyTohkAAihQtwthJL/NL6HR+XjWNhnfk/WH0Zq2aMG/d9yzY8BOPPnGxhvpNQvhh2TeEH1tLm86tMtV17dWR+et/ZP76H+naq2OeNbz8zkRadHqQbv2GZFufmprKOx9MoUOvR+k+YCh79c/0urmLltPxgcfo+MBjzF20PM8aANZt3kaXh56iY/8n+GLWnIvqI2PiGDj6de4bOJJHRr5KdNyJ9LqJU6fR7dERdH3kad796EtSr3CepwkT3mDPnt8IC1t6ie9ILbZsWcaePb8xYcIb6eX33deJ8PAVnDlziHr1al+RjvxAKl65fnkK+e+RcveyQlXrquptQBugPvDDFRwvBLiqhq1du1ZUq1aVmjXv4oknXmDy5LeybTd58tsMHz6GmjXvolq1qrRt2xKA0aOHERr6O7VqtSQ09HdGjx7mVP9e3t48NHYQ7z30Fs/d8zRNut5J0M2VMrU5tOdvXun8LC+2H8nmRRvo/cIAAM6d/ZdPn5nMmDYjeG/AWPq/9ijXl7re+ZMAeHt78/K40Qzt8wxd7+xNx+5tuemWKpna3NenK4nxiXRscj/Tps5i5CvDAejZ716rvmU/BvV6itGvP5Wn2V68vb158d1RDO0zkm4tetOhe5uLNERFRPPy02NZPCez0ShVphRDRj1K344D6dPhMYaMehTf0r5OawDo1rENn07M/joAWLshjCPHIln0w5e8/txTjB3/EQAJiUlM+Xomsz6fxKzPJzHl65kkJCblSUNKSgpvT/6CT959iblffcDiVev469DRTG3Gf/otXdq05JcvJjKk//18+IU1k8r2PfvZtmc/P38+gTlfTGT3/r/YsmNPnnSA9R2pXr0KNWq0YPjwMUye/Ha27SZPfpthw56nRo0WVK9eJf07smeP8sADj7Nu3aY8a8hPXHDi5SlcUShSRNoD7wI+QBwwOJs2w4FngERgYTb1E7CMhBcwTFXXikgRu215oASwGRisquey7BsAzAJKAcWBhar6nF33OiBAaeAm4C/gflU9IyLFgHeA9kAKcFBVu9v7PQ/0wDo3EcAgVY3OqltVY0XkISBCRGqo6h4RaQyMs/UAvKqqC0XEH5gJVLTLVwBvAW8CpURkO/Cbqj6V7Yl2gs6d2zBz5s8AbN68jdKlSxEQ4E90dGx6m4AAf3x9S7J58zYAZs78mS5d2rJsWSidO7ehXbsHAZg+/WeWLv2el18el+v+q4VUJ+ZQFHFHYwDYOH8d9ds0IvKPY+lt9m3Ynf7+z20HaNb9LgCi/45KL4+PPUXC8QR8y5XmTOIZZ08DterdzpG/j3HscCQAi39dTuv2LTh44FB6m9bt7+ST8V8AsGz+al58Z7T1GW6pyuZ1VtDh5PFTJCUmUSPkNnZv2+uUhpp1LQ0RRywNS35dQat2mTVEHrUurQsXMv8sNGvZmA1rwkiMTwRgw5owmrdqwuJfnfeaGoTUIiIqJsf61es20rX93Xh5eVGn5m0kJZ0m7vhJwrbtpGnDupQuZRnUpg3r8vumrXRs09JpDbv2/0nl4ABuCLK+Ah1aNWP1+jCqVbkhvc3Bw8d4bujDADQKqcnTr75n13jx77nznE9OJjUVklOSKV+2jNMa0ujSpS0zZmR8R8qUyf47UqpUxndkxoyf6dq1HcuWhaIOHm1hIMWDPLHckmePzf6xngb0VdXaWD/cM7K0qQ28BDRT1XpYhsqR8sAOe/8ngVkich2Wsemjqg2AmliG89FsZMQDXVS1Ppb308A2tmk0APoAtwFFgb52+QtYxq6eqtYBBtl6+wHVgCa23kXAhJzOgaqeAv4AaohIGeBTW3d9oDMw1S7vC/ylqrVUtRbwpqqeAF7F8gJDroZRAwgKCuDYscj07YiIaIKCKmZpU5GIiGiHNlEEBQUA4O9fIf0LHh0di79/Baf6LxtQnpNRGSGkk1EnKBtQLsf2dz1wNztCwy8qv6lOdYoUK0Ls4YvuKXKFf4Af0ZEZP1QxkbH4B/hlbhPoR3SE9YOfkpLC6aTTlClXGt37By3b3YmPjw/BlQO5vfatBGQ5h7mhYqAfMY4aomLxD/S7xB5ZtEVmGCNn9nWWmLgTBDj8nSv6VyAm7jgxcccJ8M/os6KfVZ4XYo+fJMDPoQ+/8sQcP5mpzS3VqrBireUFrVy3if87c5b4hCRCagiNQmrQ+v5BtO41iGYNQrjpxsxRAGewviMZN1HWdyTgojaZvyMXtyksXPDK/ctTuBKPrTGWUUq7jf0a+ARwjJe0xPKi0r6hn5E59HYOmA6gqqEichbLy9oDjBaRDlhGrSyQ3W27D/C+iNyB5fEFYBm4JXb9UlWNBxCRTVhGCyyjMyrNA1TVtG9rVyxjGC4iYJ2fhMuch7Q/5x1AVWCxvS9Y06xVBzYCz4jI+8AaYOlljukxXMslK5p1b8FNtarz1gMvZyov41+WoR88zaej/nfFYyl5Yc7MBdx0cxV+WPY1kcei2R62iwsXUlyuo7AxevAA3vnfF8xdtpr6tW7Hv0I5vH28ORIRxcEjEaz4YSoAg54dy9ade6lf+3Y3Ky4cXMiHHpunZkX2AZoDd6pqkoi8CNySTbuRWEavsar+IyKfYYUk0/jH4X0KVljzUngBb6nqV7kRKSJlsQzXbiyjtlNVW+TQti5WyLU/MAbr810VBg8ewCOPWOHDrVt3UqlSUHpdcHAAkZGZw1CRkTEEBwc4tAkkMtK6O42NPZ4elgkI8CfOyTv0U9EnKBeY4ZiXCyzPqeiTF7Wr0aw2XZ/oydu9XiH5XHJ6eYmSJRj99Uv8OH4mf2074FTfjsRGxxEQ5J++XTHIn9jouMxtouIICK5ITFQcPj4+lPQtSfxJ6z7mvVc/TG83fcFnHPrriNMaYqLiqOioIdCf2Ki4S+yRWVsDh6SVioH+bFl/sWd7NajoV57o2Iy/c0zscSr6VaCiXwXCtu3MKI87TsO6eUuW8K9QjmiHaykm7gQVK5S7qM2kN54D4MzZsyxfu5FSJf/DzwtXUPu2m7m+hPX1bd6oLjv2HnDKsA0ePIBHH+0NpH1HAtPrrO9I5shAZGR0lu/IxW0KC9fq1lJEbgG+xYrcnQAGqOofObQVYBvwiaqOvtyxryR5ZCNQR0Rutbcfsjt2HF0OBTraYUuAx7IcoxiWEUNE7sQyPPuBMsBx26iVTmuTDWWAKNuoBQP35lL7AmCEPdaGiKTFSOYBw2yDhYhcJyJ1sjuAiPgBX2GFEvcC64GbRaSVQ5uGIuIlIlWBRFX9HssY1xcRb6xxx9K51JwjU6d+R5MmHWnSpCPz5y+jT58eADRqVJfExKRMYwdghRiTkk7TqFFdAPr06cGCBdbYzcKFK+jXz9q/X7+M8txycMefBFQNxO8Gf3yKFqFJl+aELw/L1ObGGlV59N0hTHzsXRJPZDjEPkWLMOKz51n7cyhhizY4dxKysHvbPirfdAPBlQMpUrQIHbq1YfXStZnarF66lnvtbMO2XVqxyR5XK17iOkpcb90fNW3RiOTklEzjYrllz/Z93OigoX23ewhdtvbyOwK/h27ijpaN8C3ti29pX+5o2YjfQ69NskLL5k2Yt2Qlqamp7Ni9j5Il/4NfhXI0a1yf9ZvDSUhMIiExifWbw2nWuH6e+qh5a3UOR0RxLCqG8+fPs3j177S8o2GmNqcSEtPHGr+YOYfu7VsDEOhfgS0795KcksL55GS27tzDTZWdC0VOnfodjRt3oHHjDsybt5S+fTO+IwkJ2X9HEhMzviN9+/Zg/vxlefrs+Z1rmDzyKfCxqt4CfAxMza6RiPjYdb/m9sB59thUNU5E+gMz7WSPOKAfUMmhzU4ReQf4XUQSscasHDkBhIjIc1jeUm9VPSci3wH3ish+IBZYS/be1mTgJxHZDRwDVuZS/jispJftInIO+BPoqarTbCO3xg4nemOFV3fY+90jIttsLf8Cc4D/2p/1lIh0xQqNTsIy2geBLlgh2ZEikmIfc4iqXhCRlVgh1x3AmqsxzrZkySratWvFnj2/cebMWQYPzri52bhxEU2aWD/kTz/9Mp99NoESJYqzbFkoS5euBmD8+E+YPv0THnroAY4ciaBfP+eyIi+kXODbV7/gue9exdvHmzU/riTij6P0GPkgf+/8i/AVYfR+cQDFry/OU59Y2k5EHmfiwHdp0vkOpNHtlCzjS4ue1v3B1NH/48jeQ06fh5SUFN55YTxTv/8QHx9v5sxawF/6N8OfG8SeHfsJXbqWX2bO592PXmPRxp9IiE/k2cGvAFCuQjmmfj+J1AupxETH8cITb1ymt0toeHECU2ZNwsfHm19tDcOeG8Te7fsIXbaOGiG3MemrcZQq48tdbZoz9NmB3HdXXxLjE5n6wdfMWmIFDz6d+FV6IomzPPvaOMK27SQ+PpG7u/Vj2GP9SU62vOQHuneiRdOGrN0QRodej1KieHHGvvgMAKVL+TL44d48OPBpAIY80ic9kcRZivj48OKTAxny/FukXLhA9w6tqV7lBj76+ntqSDVa3dGQsO17+PDLGXjhRf3at/PSUwMBaNOiCZu27ea+gSPxwotmDUNoeUeDPOkA6zvSvn0r9u5dy5kzZ3n88YzvyKZNi2ncuANgfUc+/9z6jixdujr9O9K1azsmTnwTP79yzJnzNTt37qVLl4sf5SgoXLgG6w3azk49rCgWWEmAH4mIn6pmDWuMwXJGStqvy+LljjEMw5VRosSNbv+j9fDP25371Wb7P5GXb3SNMQuNZmAWGs3g6NG8P5JwNfHz872iC/SHwL65/r15tdSWsliRtKzEp+U7AIhIfeA7Va3hULYX6Keq4Q5ldYD/Aa2AV4CS1zoUaTAYDIYCjpNZkSOAv7N5jXC2XxEpipVwOERVncre8tTkEYPBYDB4AE5mRU4CvsmmPD7L9lEgWER8VDXFHkcLssvTCMTKZF9kDw2VAbxEpJSqPn4pEcawGQwGgyFHnBn3sMON8bloF2tPTNEb65Gv3sA2x/E1VT0CpD/8aE+6YUKRBoPBYLgyruED2kOAJ0XkANYEHUMARGSRiOQ9OwjjsRkMBoPhElyrOSBVdT/WRB9Zy7Od8VtVX8/tsY1hMxgMBkOOpHhG0q9TGMNmMBgMhhzxpFn7c4sxbAaDwWDIEWPYDAaDwVCgSDWhSIMrSE5Jvnyja4xcdj5p17A+5V93S/AYPGHWD6/i/3G3BAB8vE3C99XCeGwGg8FgKFDkxwWbjGEzGAwGQ4540gKiucUYNoPBYDDkiAlFGgwGg6FAYQybwWAwGAoUbl8jKw8Yw2YwGAyGHDFjbAaDwWAoUJisSIPBYDAUKC7kw2Ck255iFJEqInI8D/s9LCKzr4WmXPQbLyLbRGSfiOwQkddEJM9PKotIiIj0upo6AT6Y+Cb79q4jfOty6obUzLZNvbq12Ba+gn171/HBxDfTy8e9+zK7dq0hfOtyfvrpC0qXLuV0/9Xuqs2wVe8zfM0E7hja5eK++97N4KXjGLToHR6a/SoVbg4GoESZkvT//iWe3/sl7d98yOl+s9Ki9R2s2DiHVZvnMuSpRy6qL1asKJO/GMeqzXP5Zel3BN8QmF536+03M3vxtyxZN5vFv/1IseuK5VsNAOs2b6PLQ0/Rsf8TfDFrzkX1kTFxDBz9OvcNHMkjI18lOu5Eet3EqdPo9ugIuj7yNO9+9CWpqXn7oXv5nYm06PQg3foNybY+NTWVdz6YQodej9J9wFD26p/pdXMXLafjA4/R8YHHmLtoeZ76d+T98a+xc1comzYtJiSkRrZtQurWZPPmJezcFcr7419LLy9btjTz509jx87VzJ8/jTJlnP+O5CcuOPHyFMzj+c6xQlXrquptQBugPvDDFRwvBLiqhq19+9ZUr16V225vztChz/PRR+9m2+6jj95lyJDnuO325lSvXpV27VoBsGLlb4SEtKZe/Tb88cdBnn/+Caf69/L2ov3Yh5n50HtMuec5anZtmm640tg9dz1T243h844vsuHTBbR5uS8Ayf+eJ3T8Tyx/e2YePnlmvL29eeO/Y3jkgSdo16wHXe5rT/VbbsrUplffbiTGJ9G60b189ekMnn/taQB8fHyYOOUtXh79Nu2b96T3vYNIPu/8bC+eoAEgJSWFtyd/wSfvvsTcrz5g8ap1/HXoaKY24z/9li5tWvLLFxMZ0v9+PvxiBgDb9+xn2579/Pz5BOZ8MZHd+/9iy449edLRrWMbPp34Vo71azeEceRYJIt++JLXn3uKseM/AiAhMYkpX89k1ueTmPX5JKZ8PZOExKQ8aQBo164l1atXpXatljzxxItM+vDtbNt9+OFbDB/+ArVrWe3btm0JwKhRQwkNXU+d2q0IDV3PqFHD8qwlP5DqxMtTuGwoUkRSgZeA7kB54FlV/dmuawyMA9JuWV5V1YUi8i5wUlXftz2S74EAe9XURVjLhx+wjzEBy0h4AcNUda2IFAEW2v2VADYDg1X1XBZtAcAsu//iwEJVfc6uex0QoDRwE/AXcL+qnhGRYsA7QHusEPJBVe1u7/c80MM+NxHAIFWNznpe7M/yEBAhIjVUdc8lzoc/MBOoaJevAN4C3gRK2SvJ/qaqT13u73E5unZpx/QZlkO7aXM4pcuUJiDAn+jo2PQ2AQH++JbyZdPmcACmz5jNvV3bs3Tpalas+C293aZN4fS4r5NT/QeFVOPUoRjij1oL4e6ZvxFpU5/jf0Sktzl3+mz6+6LXX5f+/vzZfzm65QBlqwQ41Wd21KlXk8N/H+XoYavfBXOW0qZDS/48cDC9zT0dWvLhe1MBWDxvBa+Pex6AO1s1Zf/eP9i/5wAA8acS8q0GgF37/6RycAA3BFmXX4dWzVi9PoxqVW5Ib3Pw8DGeG/owAI1CavL0q+/ZNV78e+4855OTSU21pnMrX7ZMnnQ0CKlFRFRMjvWr122ka/u78fLyok7N20hKOk3c8ZOEbdtJ04Z1KV3KF4CmDevy+6atdGzTMk86OnVuy8wZvwAQFraN0qV9CQjwIzo6ffFmAgL88PX1JSxsGwAzZ/xC5y5tWbYslE6d29Ch/YMAzJgxm8VLvueVV8blSUt+wJM8sdySW48tUVUbAv2ByQAiUgb4FOijqvWBzsBUu3wlcLe9793ARqC1iBTFWlhunV1XHtihqrWxVlCdJSLXYRmbPqraAKgJ+ACPZqMrHuhi9x8CNBCR9g71DYA+wG1AUaCvXf4ClrGrp6p1gEH2Z+oHVAOaqGo9YBEwIaeToqqngD+AGpc5H32Bv1S1lqrWAt5U1RPAq1heYMjVMGoAQUEBHDsamb4dcSyK4KDMhiI4KICIY1Hp28eORREUdLExefjhB1mydLVT/ZcKKEdiVEYYKzHqJL4BZS9q12BAG4b/NpG7X+jN0te+daqP3BAQ6E9UZMaPaFRkDBUD/TK1qRjoT1SEdc+SkpJCUuJpypYrQ9VqlUlNTeWbHz9m3qqZPP5k3sKinqABIPb4SQL8KmT06VeemOMnM7W5pVoVVqzdBMDKdZv4vzNniU9IIqSG0CikBq3vH0TrXoNo1iCEm26slGctlyIm7gQB/g46/SsQE3ecmLjjBPhnnLeKflZ5XgkKqsixYxnfkciIaAKzXP+BQQFERmR8RyIiogiybwz8/TOMYHR0HP7+mf+mBY1ruIL2NSO3ySPf2/9vBIJEpDhwB1AVWCwiae1SgerA78APtmfUDBgN9MTygHbbXhPAOWA6gKqGishZLC9rDzBaRDpgGbWywJlsdPkA74vIHVgeXwCWgVti1y9V1XgAEdmEZbTAMjqj0jxAVU37lnTFMobhtr4iwOVuldP+nJc6HxuBZ0TkfWANsPQyx3Q7Y8Y8RXJyMjNn/nJNjr/lu+Vs+W45Ne+9g+ZPdmPeqKnXpJ+84FPEhwaN69KtTT/Onv2H6b9MZff2faxfu7nAahg9eADv/O8L5i5bTf1at+NfoRzePt4ciYji4JEIVvxg/X0GPTuWrTv3Ur/27ddER34kr2OO+YUUjwoy5o7cGrZ/AFQ1xeEH3wvYqaotsttBRHYCvYEoYDWW53MMy5u7HH2A5sCdqpokIi8Ct2TTbiSW0Wusqv+IyGdYIclMum1S4LJT0nsBb6nqV7nQiIiUxTJcu7GM2qXOR12skGt/YAzW57sqDB3yEI89ZjmjW7Zsp9INQel1wZUCiYjMHEmNiIwmuFJGkkKlSoFEOrQZ0L8XnTreQ9t2zg//JUafpFRg+fTtUoHlSIo+lWP73fM20OGtR4Cra9iio2IJDKqYvh0YVJGYqLhMbWKiYgkMDiA6KhYfHx98S5Xk1Ml4oiNj2bwhnFMn4wEIXbGOGnVuddqoeIIGAP8K5Yh28HBi4k5QsUK5i9pMeuM5AM6cPcvytRspVfI//LxwBbVvu5nrS1hfneaN6rJj74FrYtgq+pUnOtZBZ+xxKvpVoKJfBcK27XTQf5yGdWs7dezHB/fnkUd6A7B16w4qVcr4jgQFBxCV5TsSFRlNUHDGdyQ4OJBI2/uOjY1LD10GBPgRdwXeY36gIIcis2M9cLOItEorEJGGIpLmwawE3gBWquq/WEbtYTIbtmJYRgwRuRPL8OwHygDHbaNWOq1NNpQBomyjFgzcm0vtC4ARtkeJiKTFP+YBw2yDhYhcJyJ1sjuAiPgBX2GFEvdyifMhIlWxwrnfYxnj+iLiDSRijQFeEVM+/ZYGDdvSoGFb5s5bSr++PQFo3KgeiQmJmcbXAKKjY0lKTKJxo3oA9Ovbk3nzLSeybduWjBo9lO73PczZs//gLJE7DlKuagBlbvDDu6gPNbo04cDyrZnalKuS8WN/c+sQTh66aAjzitm5bQ9VbqpMpcpBFC1ahM7d27FiSWimNiuXrKHHg1bWZoeu97BhbRgAv61aj9xeneIliuPj40PjO+rzpx7M2kW+0ABQ89bqHI6I4lhUDOfPn2fx6t9peUfDTG1OJSRy4YL1E/bFzDl0b98agED/CmzZuZfklBTOJyezdecebqp8bUKRLZs3Yd6SlaSmprJj9z5KlvwPfhXK0axxfdZvDichMYmExCTWbw6nWeP6Th37s6nTaNqkI02bdGT+/GX06XsfAA0b1iUxMSnT+BpYIcakpCQaNqwLQJ++97FwwTIAFi1cQV/7O9a3b08WLrjyLE1P5gKpuX55Cnl+jk1VT4lIV6xQ4CQsI3UQ6IIVglsJjCXDkK3ECtc53nKeAEJE5Dksb6m3qp4Tke+Ae0VkPxALrCV7b2sy8JOI7Cb33iBYCR7vAttF5BzwJ9BTVafZRm6N7Zl6A58AO+z97hGRbbaWf4E5wH9zcT5aAiNFJMU+5hBVvSAiK7FCrjuANVdjnG3x4pV0aN+a/ft+5+zZswwcODK9bkvYMho0bAvAk0++yBdffkCJ4sVZunQ1S5asAuDDSW9x3XXXsWSxFX3etCmc4U+MyXX/qSkXWPLqN/T57nm8fLzZ8eMa4v6I4K6RPYja+TcHVoTT4KG23NS8JinnU/gn8f+YN/LT9P2fXDeJ63xL4FO0CNK2ATP6j8uUeJJbUlJSeH3Mf/n2p0/w9vbmp5lz+UMPMmLMUHZt38vKJWv4YcavTPzkLVZtnktCfCJPDbI+Z2JCEl9Omc6vy6eTmppK6Ip1rF6+7jI9eqYGgCI+Prz45ECGPP8WKRcu0L1Da6pXuYGPvv6eGlKNVnc0JGz7Hj78cgZeeFG/9u289NRAANq0aMKmbbu5b+BIvPCiWcMQWt7RIE86nn1tHGHbdhIfn8jd3fox7LH+JCdbmZ4PdO9Ei6YNWbshjA69HqVE8eKMffEZAEqX8mXww715cKCVMTrkkT7piSR5YemS1bRr14pdu9dw9sxZBg95Nr1uw8ZFNG3SEYARI17hs6njKV6iOMuWhbJ0aSgAEyZMYdq0jxnwUC+OHomgf//hedaSH/Acc5V7vAp6fLggUrRYsNv/aK8GtnS3BAC+/r+97pbgMezf/p27JXjMQqNlKrd2twQOHd7lbgkA+Pn5XlFax+gqvXP9ezP+0CyPSCExM48YDAaDIUcKcvKIwWAwGAoh+TF5xBg2g8FgMORIqvHYDAaDwVCQMB6bwWAwGAoUnpTGn1uMYTMYDAZDjuQ/s2YMm8FgMBguQXI+NG3GsBkMBoMhR0zyiMFgMBgKFCZ5xOAS/P9Txt0SWJQceflGLiD2TLy7JZB8IcXdEgAoVd25tfOuBT7enrF2cfyRVe6WQHz+c3SyxXhsBoPBYChQGI/NYDAYDAWKlHw4n7AxbAaDwWDIkWv1HJuI3AJ8C5THWullgKr+kaXNK8CDWOtpngdeVNXLLtTsGQFxg8FgMHgkqU78c5JPgY9V9RbgY7JfbXgz0FBVawOPAj+IyOUWjDYem8FgMBhyxpkxNhEpg7UAdFbiVTXeoZ0/UA9oYxfNAj4SET9VTV/1NYt3thNr3c7yWOtv5ojx2AwGg8GQI06uoD0C+Dub14gsh70BiFDVFAD7/0i7PCcGAH+p6iWNGhiPzWAwGAyXwMkQ4yTgm2zK469Eg4jcBYwlw8O7JMawGQwGgyFHnMmKtMON8bloehQIFhEfVU0RER8gyC7PhIg0BaYD96qq5kZHoQtFisj2yw0+ikiqiOy0224XkWevoZ6WIrLlah2v5d3N+W3zAtZtXczwEQMvqi9WrChTvhzPuq2Lmb98FpVuCAKg0g1B/Bm5lWW//cyy335m3MRX86yhScuGfP/bt/y0bjr9h/e+qD6kcW2+WTKVtYdX0KpTi/TygOCKfLNkKt8u+5wZq76me/8uedYAcE+bFoRvX8mOXasZOWrIRfXFihXj2+/+x45dq1m9Zg6VKwen140aPZQdu1YTvn0ld9/T4qJ9nWHChDfYs+c3wsKWEhJSM9s2devWYsuWZezZ8xsTJryRXn7ffZ0ID1/BmTOHqFevdoHQ8f7419i5K5RNmxYTElIj2zYhdWuyefMSdu4K5f3xr6WXly1bmvnzp7Fj52rmz59GmTKlnOr75Xcm0qLTg3Trd/H1AJCamso7H0yhQ69H6T5gKHv1z/S6uYuW0/GBx+j4wGPMXbTcqX7zM06GInOFqsYC24G0H4jewDbH8TUAEWkI/AD0VNXw3B6/0Bk2VQ1R1bO5aHqH3TZEVd93rBARbxHxukYS84y3tzdvv/8S/e4fQqsmXenWoyM3S7VMbXr370FCQiLN63fg8ynf8dLrI9PrDh86StsWPWjbogdjRr6ZZw2j3n6akf3G0LvVw7TpdjdVbr4xU5voiBjGPvNflv+6MlP58dgTDOr6BA+1HcTAzkPpP7wPFSqWz7OOiR+8yX3dHqZBvbbcf39Xbr21eqY2Dz3ci/j4BOrUasXH//uSsW+NAeDWW6vTs2cXGtZvR/d7H+KDSW/inccZNdq1a0X16lWoUaMFw4ePYfLkt7NtN3ny2wwb9jw1arSgevUqtG3bEoA9e5QHHnicdes25al/z9PRkurVq1K7VkueeOJFJn2YvY4PP3yL4cNfoHYtq32ajlGjhhIaup46tVsRGrqeUaOGOdV/t45t+HTiWznWr90QxpFjkSz64Utef+4pxo7/CICExCSmfD2TWZ9PYtbnk5jy9UwSEpOc6ju/csGJl5MMAZ4UkQPAk/Y2IrJIRBrYbT4BSgBTHRyNWpc7cKELRYpIKuALnAE+AloD/wKnVbXZJfZ7HagBlAYqA01F5CXgLqAYcBx4VFUPi0hLYLyqNrD3zbr9FtazGaeA0Kv12erWr8Whg0c5ctgaW537yyLadWzFH/pXepu2HVoz8b8fA7Bw7jLefu+lq9U9ALfXvZVjhyKJPBIFwIq5q2jRrhmH/jic3ib6WAwAFy5k/iokn09Of1/0umJ4eef93qFBgzoc/Oswhw5ZkY3Zs+fTqXMb9u/PuAPv1KkN77w9CYA5cxYzYaLloXTq3IbZs+dz7tw5Dh8+xsG/DtOgQR02b97mtI4uXdoyY8bPAGzevI0yZUoREOBPdHRsepuAAH9KlSqZfvwZM36ma9d2LFsWijp4DFeCp+jo1LktM2f8AkBY2DZKl/YlIMCP6OiMG/WAAD98fX0JC7N0zJzxC527tGXZslA6dW5Dh/YP2vpms3jJ97zyyrhc998gpBYRUTE51q9et5Gu7e/Gy8uLOjVvIynpNHHHTxK2bSdNG9aldClfAJo2rMvvm7bSsU1LZ09BvuNaTamlqvuBxtmUd3R43zAvxy50HpsDdYBWwO2qWgfonKV+fTZ3CI2BPqp6q6qeAsapakN7/1nAfy/XqYh0AboCIUAT4Nar83EgILAikRFR6dtRkTEEBFbM3CbIn8iIaABSUlJITEyibLkyAFSuHMzSNbOZveAbGjWtlycNfgEViI3M+LGMjYrDL6BCrvf3D/Jj2vIvmBv2A9M//p7jMSfypCMoKIBjDuciIiKaoKCALG0qprdJSUkhITGJ8uXLWvsec9g3MuqifZ3ScexyOgKIsP8mObW5UjxHR0WOHcuYZzQyIprALH0EBgVkuo4jIqIICrKuY3//DCMYHR2Hv7/fVdUXE3eCAP+M67WifwVi4o4TE3ecAIe+KvpZ5YWBaxGKvNYUOo/NgYNAUeBLEVkFLMhSf4eqnk7bEJEewCJVdbyaO4jIcKAkuT+XrYAf0o4tIl8CL+fxM1w1YmPiaFTrHk6dSqBWndv5asZkWjW9l9NJ/+daHZFx9G8zkAoVy/PfL8eyauEaTh0/5VINhvxDaj6c7im/kR/PcaH12FQ1ASu0+D1QG9gjIpe7PXU0dDcCHwC9VbUm1lPxxe3qZDKf2+K4gOioGIKCA9O3A4MqEp0l7BIdGUtQsPUxfXx8KFXKl1Mn4zl37jynTiUAsGvHXg79fZSbqlVxWkNc9HH8g/zTt/0D/YiLdv7O9njMCQ7qIUIaXzacni2RkdFUcjgXwcEBREZGZ2kTk97Gx8eH0qV8OXHilLVvJYd9gwIv2vdSDB48gE2bFrNp02Kio2MzHytbHdEEBwdcsk1e8BQdjw/uz4aNi9iwcZGtIyi9Lig4gKgsfURFRme6joODA4mMtK7j2Ng4AgIszykgwI+4q+w1VfQrT3RsxjFjYo9T0a8CFf0qEB2bES6NibPKCwMppOb65SkUWsMmIn7A9faT7WOABOAmJw5RCjgHRIuIN/bAp81B4CYRKWsnmTimBq4CeonIf+wU10eu5HM4sj18N1WrVeaGysEULVqUe+/ryLLFqzO1WbZkNff3vheATve25fffrGSAcuXLpidIVL6xElVvupEjhy77HORF7Nu+nxuqBhN4QwBFihbhnntbs3bZ+lzt6xdYgeuKFwPAt3RJajeqyZG/Lsr+zRVbt+6kWvUq3HhjJYoWLUrPnl1YtHBFpjaLFq2gb78eAHTv3oE1azZY5QtX0LNnF4oVK8aNN1aiWvUqbNmyI9d9T536HY0bd6Bx4w7Mm7eUvn2tPho1qktCQlKmcS2A6OhYEhNP06hRXQD69u3B/PnL8vS5PVHHZ1On0bRJR5o26cj8+cvo0/c+ABo2rEtiYlKm8TVLRxxJSUk0bGjp6NP3PhYusHQsWriCvn172vp6snDB1c1ObNm8CfOWrCQ1NZUdu/dRsuR/8KtQjmaN67N+czgJiUkkJCaxfnM4zRrXv6p9eyomFJm/uAH4XESKYJ2HxcDG3O6sqrtE5CdgL1biyCKghV0XKSITgK1ADLAGyztEVRfYz2XsICN5JPiiDvJASkoKLz/3NjN//gxvH29+mDGHA/v/YvQLT7Bj+x6WL17N99N+ZvKn41i3dTHxpxIY9thoAJrc0YDRLzxBcnIyFy5c4IVRbxIfn5AHDReY8PJkJs18D29vbxb8sJi/Dxxi0OhH2LdDWbd8PbfVEcZ9ORbf0iVp3qYpA0c9Qt/Wj1Cl+o089epQUrHmzZn56Y/8tf/vPJ+LUSNf49d53+Hj4820735i374/ePmVZwgP38WihSv49psf+OLLD9ixazWnTiXw8IAnAdi37w9++WUhW8KXkZycwshnXr0o0SW3LFmyivbtW7F371rOnDnL44+PTq/btGkxjRt3AODpp1/m888nUKJEcZYuXc3SpdYNSdeu7Zg48U38/MoxZ87X7Ny5ly5d+udbHUuXrKZdu1bs2r2Gs2fOMnhIxpM0GzYuomkTK29gxIhX+GzqeIqXKM6yZaEsXRoKwIQJU5g27WMGPNSLo0ci6N9/uFP9P/vaOMK27SQ+PpG7u/Vj2GP9SU62kpYe6N6JFk0bsnZDGB16PUqJ4sUZ++IzAJQu5cvgh3vz4MCnARjySJ/0RJKCTn4MRXrlR9GFneCyNdz+R6t8vf/lG7mAXacOuVuCxyw06gmYhUYdNKRe3cSWvOLn53tFjya1qtQm1783q48t94jHoAqzx2YwGAyGy2BW0DYYDAZDgcIsNGowGAyGAoUnJYXkFmPYDAaDwZAjxrAZDAaDoUCRHxMMjWEzGAwGQ44Yj81gMBgMBQqTFWkwGAyGAkVKat4mJ3AnxrAZDAaDIUfMGJvBJWw/kOuZvwyGQkl8/vst9ljMGJvBYDAYChRmjM1gMBgMBYoLJhRpMBgMhoKE8dgMBoPBUKAwWZEGg8FgKFCYUKTBYDAYChQmFGkwGAyGAoXx2AwGg8FQoCiUHpuIbAeaqurZS7RJBXYBaaOQM1T1fREJBcar6oIr1XGl2Bp9VfW0iBwC/rFfAKtV9Zlr1G8VYIuqVrgWxzcYDIYrISU1xd0SnOaKDZuqhuSy6R2qevpK+3MhPVV1d06VIuKjqvnvL24wGAxOUCin1ErzdIAzwEdAa+Bf4LSqNnPiOH2Ap4FidtFoVV1p190JfAKkAquBbkAnVd19mToBJgEV7ONOUtWv7WPeB7yD5ZX9nAt9DwP9gCTgZqCfiNwNPIh1Hv8Bhqrq9qxeWDbbw4FngERgYW7PkcFgMLia/DillvdVPFYdoBVwu6rWATpnqV8vItvtV61s9l8KNFHVuljG4lsAEbkOmAUMU9XaQChQORd1RYCZwDOq2hBoDowRkVtFpCLwOXCv7XH+m42e2Q5629llTbAMbk1V3Q58p6oNbc2vAJ9e7iSJSG3gJaCZqtYDyl9uH4PBYHAXqampuX55ClczeeQgUBT4UkRWAVnHzS4XiqwGzBKRYOA8ECAiAYA/cFZV1wKo6hwRibf3kUvU3QLcBnxvOW4AXGeXpQDhqqp2+WfAf7PoyRSKtD22dar6l0Ob+iLyIlAOa/zwlkt8vjRaAgtVNcah71652M9gMBhcTn7MirxqHpuqJgA1gO+B2sAe2zDlllnAJ6paA6gHJAPFr0CSF3BcVUMcXlVUdc4VHDPdMItIMWA2MEJVawLtsQwnWNodz+2VfA6DwWBwG6lO/PMUrpphExE/4HpVXQqMARKAm5w4RBngb/v9o2QYCQWuF5Fmdj/32m1zU3dGRPo7aLxVREoBG4G6InKzXTXQCZ1pFMfyeI/a28Mc6qKBoiJS3d7u41AXCnQUEX97+7E89G0wGAwuISX1Qq5fnsLVHGO7AVghIjuAncBiLAOSW0YAv4pIOJZBPAGgqv9iGYZPRWQncA8QCyRcpi4Z6AI8KCI7RWQPVpJJMVWNBR4H5ovINvLgUalqIvAqECYiW4H/c6hLxkqEWS4im7FCn2l1O7GSVn6394t3tm+DwWBwFflxjM3Lk8TkhIj4qmqS/b4V8A1QVVUvXKrOXXqvNXFxSZ7/RzMYDB6Bn5+v15XsX8735lz/3pxM+uOK+rpa5JeZR3qIyDNYHuY/QB8Hw3WpOoPBYDBcAdfK+RGRW7Cy38tjRegGqOofWdr4AJOxchhSgXGq+sXljp0vPDZDZozHZjAYcsuVemylS1bL9e9Nwum/ct2XnT3/lapOF5F+wKOq2jpLmwFAX6ADlgHcBjRX1UOXOvbVHGMzGAwGQwHjWoyx2clz9bCy4bH/r2cnITryAPC5ql5Q1TjgV+D+yx0/v4QiDQaDweAGnMl2FJEyZGSmOxKvqvEO2zcAEWnTEqpqiohE2uVxDu0qA4cdto/YbS6J8dgMBoPBkCMXUlNz/cLKbv87m9cIV2o2HpvBYDAYcsTJPIxJWJnpWYnPsn0UCE6bTN5OEgki47ngNI4ANwJh9nZWDy5bjGEzGAwGQ444M6OIHW6Mz0W7WHvJs97AdPv/bfY4miM/AYNE5Bes5JFuwJ2XO74JRRoMBoMhR67hA9pDgCdF5ADwpL2NiCwSkQZ2m2lY8xD/gTXhx5uq+nd2B3PEpPvnQ0y6v8FgyC1Xmu5fpFhwrn9vks9FeMQD2sawGQwGg6FAYUKRBoPBYChQGMNmMBgMhgKFMWwGg8FgKFAYw2YwGAyGAoUxbAaDwWAoUBjDZjAYDIYChTFsBoPBYChQGMNmMBgMhgKFMWwGg8FgKFAYw2YwGAyGAoUxbAaDwWAoUBjDVogQkQoi0tl+VXCThltzU2ZwDSIyKTdlhUWHoWBg1mMrJIjIfcBnwFbAC/hKRB5X1V9dLGUmUC8XZdcMEXkvm+IEYIOqrnKhjji4aLGrBGAD8JyqRrtARotsyu5yQb9ZcZsOEQnj4r9DOqrayEU6srseHHX4u0JHQcAYtsLD28AdqnoAQERuBuYBv7qic9tD9AeKi8htWMYVoDTwH1docKAi1mKFv9rb92Kt0NtLRH5U1bddpONjoAzwFdb5GAAkA2ewbkK6XquOReR+oBdQRUR+dKgqbffvEjxEx2j7/07ArcCX9vYjgLpIA0DaGmSPYS2q+RnWdfEYcNKFOvI9xrAVHv5JM2oAqvqHiJx1Yf99gRFYy78vcihPALLzoK4lQUB9VT0FICJvAj8DzYFNWDcBrqCDqjZ22B4lImGq2lBE9lzjvg8AC4FG9v9pJAIrr3HfHqVDVddAuiffRFVT7e0FwHpXaLB1HLb77aiqDRyqnrS9ytdcpSW/Ywxb4WGuiLyEdTfqhXU3+quIlAC8VPWa3h2r6ofAhyLyoqq+cy37ygXBaUYNrOXsRSRQVZNE5F8X6igrIuVU9SSAiJQHStl1565lx6q6A9ghIvPS+ncHnqLDphxQHEi74bvOLnM1pUWkgqoeh/RoR2k36Mi3GMNWeHjV/n9slvLXseL6Pq4QoarviMj1QCUcrj9V3euK/m32ichnwNf29kN22XVAigt1TMb6UU/zYDsA74lISeB3F2l4yfZY/w9YjTXWOVhVp7uof0/S8QOwQUR+sLd7Ad+7sP80JgHbRSTNg+0IuPtmMF9hVtA2uBQRGQb8FzhFhhFJVdWbXKihFJahb2UXhQJpP6plVTXOhVpqk5EksUZVd7qqb7v/HapaR0Q6Af2BUcBCVQ0ppDq6AC3tzVWquvASza+lDsfrIlRVd7lDR37FeGyFCBG5BbhNVefaXkExN4R/RgM108YTXI2I+AATVHVQDk1cZtQAbEPmUmOWAy2AX1Q1QkTcebfrVh2qOh+Y7+p+s9HhKddFvsQYtkKCiDwMjAGKAXOBYKysvHtcLCXaXUYNQFVT7LthtyEi01S1f05p5q5KL7eJFZEpWGHQcSJSBBeFpT1Nh4f8PXJM+zfp/rnHGLbCw9NY6cRrAVRVRSTADTqW29ln3wP/pBW6eIxtlYh8BHwHnHaDhkn2/6Mv1chF9MHKWP1WVU+JSBVgYiHV4fj3KA70BiJdrAEy0v7TdPQFzrtBR77FjLEVEkRkk6o2FpFtqlrXLtvuhjGMv7MpdvUYmydo8AE+vURI1GXYY47VVTXc6MhARLyAdarazAO0bFTVJu7WkV8wHlvh4YQ9xpb2jE4/4JirRahqVVf36aEa3B4SBeuZKWAqViJPFRFpALymql0Ko44slALcEdXIhIjchDW5gSGXGMNWeHgGa+oqEZFDWLM6uPxHQ0Ruz67claFIEWkG1LE3d6iqq1Lrs+LukCjAG0BDYLHd9xYRqebC/j1GR5YxNm/gJmCCKzXYOhzH2LyBolhDCYZcYgxbIcEeU2sM3IL1gLaqqiuf2UrDMX26ONb0VoeBa+5FiUgZ4CdAgLRw1xgROQD0VNX4a60hCw/a/3dyKEvF+kF1GaoaLSKORa58SN2TdDiOsSUDB1U1ysUaIPMYWzJWwpU7vqv5FmPYCgn2HIi9gH3ZlLmMrGFAEbkbKxPOFYwHdmFNZZVs918EeB8rUeFRF+kAPCMkCiSJSEUyQtQtgfjCqCNtai13486s4YKCMWyFh+rZlLl9uRhVXSki77uou5aqmuk8qGqyiIwC/nCRhnQ8JCQ6Biv8V1VEQoGbuYaTL3uyDhG5AWve0jpY0QQAXJlUZOuojTXeWAdrWq80He54DCNfYgxbAUdEBgGPA7eIyGaHqtJYE9C6Wo/jGJs31rjKdTk0v9okZ1eoqhdExGXp1J4UElXVzSLSCrgDK0S93g0hWU/R8RXWYyghWCn2Q4G/XKwBYArwMlYUoT0wHEhyg458i1lotOCzDHgWOGT//yzwCtb8iN3coGehw2sOcL+txRXEiUjzrIUicidwwkUaICMkepOqdlPVbljjartw8bNb9hJCbbCWDjroDqPmQToqqOqXQLKqbgAexpqn0dUUV9WVgLeqRqnqy0BPN+jItxiPrYBjx+sP28ugbMeaNX4HUAFrYtXxLtbjznGlF4FfROQLYKNd1hRrvaseLtTh9pCoiBTHmvT3HrtPL6C6iCwDHlRVlyRueIoOm7QVFU6LSGUgBvBzYf9ppCWKnBSROliP5bhlxfv8ivHYCg+3qGoCVgbeKqzZ9Qe4Q4iItBOR9+1XG1f1q6prsUJdFbG81lexng9qZte5ihxDorhuhonn7P+DVTVEVetgXROpwPMu0uBJOgB+E5FywCdYK83/hTX9nKv53l7C6F1gHXAUa/o7Qy4xHlvhoaj9/13AIlU9IyIXXC1CRJ7FCj3Ososmisi3quoSz1FV/8Ty0NxJnIg0V9V1joUuDol2B9o4hvzsqawGY4Wv3yxkOgDesm/+ponIGqCUqu52Yf+IiDewQlVPAEtsQ1tcVc0YmxMYw1Z42Csii4HbsBIVSrhJR3+gadoXVUQmY6095rKQqIj4Y41lVVbVFnYW2h2q+qmLJHhCSPS6tIUsHVHVODs86Co8Qoc9fdYG4Ha7/yOu6tsRO5FpOlDb3j6PmSfSaUwosvDwEFYKcStV/T+slYHHuEGHl+Pdp/3ey8UaPscK8ZSxt/cDw1zVuYeERM9eou6arqaeBY/QoaqpwFERKeuqPi/Bn/Yk0IY8Yjy2QoKqngV+ddiOACLcICVMRL7GMi5geSlbXKwhWFU/tcNdqOo5V4dlPSAkepOI/JhNuRcumAXGA3UAJADbxFrR3HGKs+dy3uWa4AvsFJF1WXS4dDKF/IwxbAZX8ySWlzLZ3l4BjHWxhkzJG/ZzZa72Gt0dEh1xiboFLug/jRGXqHOlDoA99svdTLdfhjxilq0xFDpE5DmgGnA38BZWGHKGqn7oYh1zsWbbGKaqtUWkGLBFVd0+639hQkRGqeoE+30NVXWLcRORCao6yn7fRlWXu0NHQcB4bAaXYiet9Maa4iv9+nNluEdV3xORvlhjbB2Byarqjjtkt4dEPSCRxhN09CVjFv9pQD0X9JkdrRze/xcwhi2PGMNmcDW/ABewnhNyyyzyAKo6A5jhrv5tPCEk+jm212hv78cKg7nUsLlZh1cO712Np+jI9xjDZnA1lVW1hjsFiMjPwCBVPWlvlwemuGFw/hcRmQr4isjDWD/qX7lYg9u9Rg/Q4WVHEryyvMfW4qrszOvsqcW8srxP0+HKdfryNcawGVzNbhEJdNM6V2nclGbUAFT1hIhkt/rBNcVDQqKe4DW6W0dtrOzDtP7+D2vmEy/7f1fNqn89sMhh2/G9y9fpy8+Y5BGDS7Fn91+CNW/lP2nlrvSWRGQXEJK2eKOIFAW2u9uTdAcelEjjEToMBQNj2AwuRUS2YM22EU7GZK+o6rcu1PA+1jNSk+yiEcDhtIw0F+rwiJCo7TV2xfJQ5rkpkcZjdNha/LE8+42XbXz1+rz+UvUuDInme4xhM7gUEdnp7nR220N7EWtCaLCelxqnqudy3uua6NimqnWzlIWrqruy8go1IrIW6IxlWPdgreC9SFWfdVH/F7BXEM8Os9Bo7jFTahlczUYRqeVOAap6XlXfUNVG9utNVxs1myIikv5jZRtcVy26mtbnz/ZEu2nb5XOYCaQw6ChpT4LcGStjthbWQp8uQVW9beP1GtZ0d+WA8lirHLziKh0FAZM8YnA1jYAtIqJYY2xeQKqqNnKVAHty3b5YYzpueZbOZgnwg4hMsrdH2GWuxCMSaTxER9pNRSvge3tC4myXGLrG3JfFax8vIlux1k805AJj2Ayu5ulsylwdD/8JKAZswo3P0mGFQ18kY9XsBcA4F2soIiI+WRJpXOo1epCOUBHZi/W7OMTOzEy59C7XhBIiUt2eTxQRqYaVMWnIJcawGVzNdqwwSx3AcVmS1i7UUF1Vb3Nhf9liL0nyhv1yF57gNXqKjuFY1+VBVT0vIkWAQS7WAPASVsh+q71dF3jcDTryLcawGVzNV8Be4BascYNHsWYhcSUHRcTX3Ys3ekhI1BO8RrfqEJHrVPVfoARwwC67HmvZHHWFBkdU9Rd7Zv/GdtFGVY1ztY78jDFsBldTXVV7iMi9qjpLRH4BVrtYQwLWON9SMj9L5+oxNreHRD3Ea3S3jg1Y80OeJvOD2a5+QNuRMoC3qs4VkZIiUs5xDNJwaYxhM7iatB/wc3YW3CnAz8UaFDfciWeD20OiHuI1ulVHWqKGqnpElriIPAS8gHXTMxcIBj4G7nGnrvyEMWwGV3PANmgzsR7UjsfFoUhVdat34oAnhETd7jV6mA5PYATQAFgLoKoqIgFuVZTPMIbN4FJUtZ/9dqKIbMYKubg8WUFE2gIhOCSwqOqbLpbhCSFRt3uNNp6iwxM4p6qnRcSxzB2PHeRbjGEzuA1VXeeOfkVkHNAQqIEV6rkXayVvV+MJIVFP8Bo9SYcncEJEbsF+DEZE+gHH3Cspf2EMm6Ew0gkrhXqrqg4WkTex1gNzKR4SEvUEr9GTdHgCI7BC9SIih7CyM7u4U1B+wxg2Q2HkH1VNFpFUESmqqhEiUskdQjwgJOoJXiN4jg63o6oHRKQx1iMxXlaRuuNB8XyLmQTZUOgQkVVY8wGOxxrjiwKaq2rjS+13DXRkGxJ1GIc0FELspZ2ykqCqES4Xk08xHpuhMNIba6qk0cBILON2vxt0eERI1AO8Ro/S4QEsAm7ACs8ClAZiReQfoLcrl9LJrxjDZih0qGqMw+ZbbhPiASFRT0mk8RQdHsKvQKiq/gogIvdiTTk3B/iQjBlJDDlgDJuh0CAiP3Hp9a5cusAnkGRP3bQe+FZEooCzLtbgEV6jB+nwBFqq6oi0DXv2kTdU9WkRKeFGXfkGj3jS3mBwEQuAhZd4uRrHkOheLKPr6pDoP6qaDKR7jYA7Emk8RYcn4C0id6RtiEhTMn6rL7hHUv7CJI8YDIUYD0qk8QgdnoCI3ImV7n/GLroe6ANsA3qo6rfu0pZfMIbNUOiwlyN5lIsTFR51Uf8eExIVkYpY05r5kJFIM1lVj7hKgyfp8BREpBiQNvWIummF93yLGWMzFEamYl37rYApWHfDv7mw/wUu7OuSeEoijafo8AQc0v3Tnl2rLiIm3d8JjMdmKHSIyC5VrSUiO1W1toiUBuaqakt3a3MVnuI1eooOT8KebeSidH+sGVlMun8uMB6boTCSlnmYIiLXq2qCiPi7WoSbQ6Ke4jV6ig5P4ldMuv8VYQyboTByUkTKYq0qsFhEjgPuCPO4LSTqKQkInqLDwzDp/leIMWyGwkgnVU0RkZewjEkZ4Ds36GjkEBJ9V0Q+wXo42WW4O5HG03R4CN4icoeqrgeT7p8XjGEzFDpso1YUK+tsO7DffobK1XhCSNTdiTSepsMTGA78ICKZ0v1FpCTwgftk5R/MA9qGQoeINAcOAr/Yr4OOD8S6kKwh0Z9xfUi0kao+BMSr6rtAc6xprVyNp+hwO6q6FqgG9LRf1VR1raqeNqHb3GEMm6Ew8jHQT1VvUdVbgL5YXoKr6aSqp4CXsKaPWg30cLGGi7xGwOWJNB6kwyOwn1uLwcqMDBCRym6WlK8woUhDoURV1zi8Xysil2p+rTR4QkjUUxJpPEWH2xGR1sC3QEWsZ9mKAScoxIbeWYzHZiiMLBeRvmkbItIHWOpqER4SEvUEr9GTdHgC7wN3A3uwxtcGA5+5VVE+wzygbSg0iEgc1sPAXkB54F+76jrguKq69I5YRHYAT6V5j/YcgR+pah0X60jzGsF9iTQeo8PdiMhWVa0vIrtVtaZdtkVVG7hbW37BhCINhQmP+2Fwd0jU9hpnkTHGVVxEHkxLNS9sOjyE8/b/ESLSBTgElHOfnPyHMWyGQoOqHna3hiwsF5G+qjoD3BYSTUukcfQapwAu9Ro9SIcn8KE93vgylrEvDTzjXkn5CxOKNBQaHEKR2eKqUKQnhURFZEfW0Gd2ZYVFh6FgYDw2Q2EiLRT5GJZB+QzLuDwGnHSDDk/AE7xGT9LhNkSk46XqVXWRq7Tkd4zHZih0ZDcQLyJhqtrQxTruAdap6j+u7Nfu2yO8Rk/R4QmIyOpLVKeqamuXicnnGI/NUBgpLSIVVPU4gIhUwBrHcDXPAN+LyC5gpf3arKopl97tquApXqOn6HA7qtrK3RoKCsZjMxQ6RGQ48AKw0C7qCLyjqi6ffcSe/LcJ1nNLDwPlVNUdRtatuNN79RREZJSqTrDf11DVPe7WlF8xHpuh0KGqH4vIWuAuu+gjVd3lah22p9gaaAM0BRTLa3NF3x6RSOOAO71XT6EvMMF+Pw2o50Yt+Rpj2AyFElXdCex0s4wYYAPwJjBMVc9fpv3VxFMSaQBQ1U5ZvNeZWM9uFSbv1SuH9wYnMYbNUGgQkTCy91K8sAbnG7lYUm8sj20CECkiK4EVqhp+rTtOe6ZPRDpmSaR50j5Pr11rDY6403v1ILzshUS9srwHQFXP5LinIRPGsBkKE6OzbJe0/z/taiEAqvoj8KM9lVRv4A3gXcDHhTI8JZHGnd6rp1Ab61pMM2b/R0bGaCquvS7yNcawGQoNDrNaVANmYK3WDBAO9HO1HhEZhRV2a4gVFv0C13spk4DtIpIpkcbFGsCN3qunoKpmUvqrhMmKNBQ6RGQ51lRFX9tFDwN9VLWNi3W8g2XIfndnNqCI1CYjkSbUHYk0DlocvdfKqv/f3h2E2BSGYRz/r0wklCbZGRlPmcVYiLJiRzELSxk7pSys1JiNUjaWSrGhrNjLSNGUGpOosaBeyVopjUZqkpvF941uupPbdDvfuec8v83pnm7dt7s4b8933nO+aHVKyTuq742IxdK1DBM3NmsdSUsRcfB/5yqqZRuwr03JpJce6fUF8LyNF/Q8sXuKtAT5HlgGnkTElZJ1DRMvRVobdSQpIgJA0n7Sho6VknSSNI34G9gj6RBwLSJOV/DbdRuk2UlahiyaXmtia0R8l3SOtGQ+A7wD3Nj65MZmbTQLvJS0lD9PAtMF6rhOSihzABHxJt//q0LdBmlmc3o9QLrn2WYj+XgceBgRHUmt3Jtuo9zYrHUi4qmkCeBIPrW4NhVYoJYv/+zBtrredwf8u3UbpCmWXmtoXtIH0vX5oqQdFFhRGGZubNZKEfEVeFy4jBVJu8hLgpKOke6nVOkOqaF0D9LcJT1PVqWS6bVuLpFWET5HxK/84PqFwjUNFTc2s3JmSBfyMUnzwDgwVXENoxFxr+vzfUmXK64BKJde60LSSESsApuBj/ncFuAn6YF165OfmzArJCJek+6jnAVuAhMR8bbiMjrq6ialBmmoR3ot7VU+/gBWehytTx73NytM0ia6Vk+qfHWSpBPAA2Apn5oEpiPiWVU15DoOk5ZFx0gTgOPAVIFGbw3gxmZWiKQzwC1gdz61Nmpf6UPJkkapwSCNpO3AUdL/sBARyyXqsOHnxmZWiKRPwHlSM+mUrqcOSqZXaw4Pj5iV8y0iFkoXUQfrpVf84l/bACc2s0IkXSUNSDwC/r5to40pxenVBsmJzaycG/l4G29P4vRqA+PEZmbFOb3aIDmxmVkdOL3awDixmZlZo/jNI2Zm1ihubGZm1ihubGZm1ihubGZm1ihubGZm1ih/AJNUKMMu69YvAAAAAElFTkSuQmCC",
      "text/plain": [
       "<Figure size 432x288 with 2 Axes>"
      ]
     },
     "metadata": {
      "needs_background": "light"
     },
     "output_type": "display_data"
    }
   ],
   "source": [
    "fig = sns.set(rc={'figure.figsize': (10, 8)})\n",
    "plt.title(\"Heat Map for Correlation\")\n",
    "sns.heatmap(bank.corr(), annot=True, fmt=\".2f\")\n",
    "plt.show()"
   ]
  },
  {
   "cell_type": "markdown",
   "metadata": {},
   "source": [
    "**Observation**:\n",
    "\n",
    "Fraud is Highly Correlated to Amount."
   ]
  },
  {
   "cell_type": "markdown",
   "metadata": {},
   "source": [
    "#### 3.5 Removing Unnecessary Columns"
   ]
  },
  {
   "cell_type": "code",
   "execution_count": null,
   "metadata": {},
   "outputs": [],
   "source": [
    "remove_cols = ['nameOrig', 'nameDest', 'isFlaggedFraud']\n",
    "\n",
    "for col in remove_cols:\n",
    "    del bank[col]"
   ]
  },
  {
   "cell_type": "markdown",
   "metadata": {},
   "source": [
    "#### 3.6 Describing Dataset"
   ]
  },
  {
   "cell_type": "code",
   "execution_count": null,
   "metadata": {},
   "outputs": [
    {
     "data": {
      "text/html": [
       "<div>\n",
       "<style scoped>\n",
       "    .dataframe tbody tr th:only-of-type {\n",
       "        vertical-align: middle;\n",
       "    }\n",
       "\n",
       "    .dataframe tbody tr th {\n",
       "        vertical-align: top;\n",
       "    }\n",
       "\n",
       "    .dataframe thead th {\n",
       "        text-align: right;\n",
       "    }\n",
       "</style>\n",
       "<table border=\"1\" class=\"dataframe\">\n",
       "  <thead>\n",
       "    <tr style=\"text-align: right;\">\n",
       "      <th></th>\n",
       "      <th>step</th>\n",
       "      <th>amount</th>\n",
       "      <th>oldbalanceOrg</th>\n",
       "      <th>newbalanceOrig</th>\n",
       "      <th>oldbalanceDest</th>\n",
       "      <th>newbalanceDest</th>\n",
       "      <th>isFraud</th>\n",
       "    </tr>\n",
       "  </thead>\n",
       "  <tbody>\n",
       "    <tr>\n",
       "      <th>count</th>\n",
       "      <td>1.048575e+06</td>\n",
       "      <td>1.048575e+06</td>\n",
       "      <td>1.048575e+06</td>\n",
       "      <td>1.048575e+06</td>\n",
       "      <td>1.048575e+06</td>\n",
       "      <td>1.048575e+06</td>\n",
       "      <td>1.048575e+06</td>\n",
       "    </tr>\n",
       "    <tr>\n",
       "      <th>mean</th>\n",
       "      <td>2.696617e+01</td>\n",
       "      <td>1.586670e+05</td>\n",
       "      <td>8.740095e+05</td>\n",
       "      <td>8.938089e+05</td>\n",
       "      <td>9.781600e+05</td>\n",
       "      <td>1.114198e+06</td>\n",
       "      <td>1.089097e-03</td>\n",
       "    </tr>\n",
       "    <tr>\n",
       "      <th>std</th>\n",
       "      <td>1.562325e+01</td>\n",
       "      <td>2.649409e+05</td>\n",
       "      <td>2.971751e+06</td>\n",
       "      <td>3.008271e+06</td>\n",
       "      <td>2.296780e+06</td>\n",
       "      <td>2.416593e+06</td>\n",
       "      <td>3.298351e-02</td>\n",
       "    </tr>\n",
       "    <tr>\n",
       "      <th>min</th>\n",
       "      <td>1.000000e+00</td>\n",
       "      <td>1.000000e-01</td>\n",
       "      <td>0.000000e+00</td>\n",
       "      <td>0.000000e+00</td>\n",
       "      <td>0.000000e+00</td>\n",
       "      <td>0.000000e+00</td>\n",
       "      <td>0.000000e+00</td>\n",
       "    </tr>\n",
       "    <tr>\n",
       "      <th>25%</th>\n",
       "      <td>1.500000e+01</td>\n",
       "      <td>1.214907e+04</td>\n",
       "      <td>0.000000e+00</td>\n",
       "      <td>0.000000e+00</td>\n",
       "      <td>0.000000e+00</td>\n",
       "      <td>0.000000e+00</td>\n",
       "      <td>0.000000e+00</td>\n",
       "    </tr>\n",
       "    <tr>\n",
       "      <th>50%</th>\n",
       "      <td>2.000000e+01</td>\n",
       "      <td>7.634333e+04</td>\n",
       "      <td>1.600200e+04</td>\n",
       "      <td>0.000000e+00</td>\n",
       "      <td>1.263772e+05</td>\n",
       "      <td>2.182604e+05</td>\n",
       "      <td>0.000000e+00</td>\n",
       "    </tr>\n",
       "    <tr>\n",
       "      <th>75%</th>\n",
       "      <td>3.900000e+01</td>\n",
       "      <td>2.137619e+05</td>\n",
       "      <td>1.366420e+05</td>\n",
       "      <td>1.746000e+05</td>\n",
       "      <td>9.159235e+05</td>\n",
       "      <td>1.149808e+06</td>\n",
       "      <td>0.000000e+00</td>\n",
       "    </tr>\n",
       "    <tr>\n",
       "      <th>max</th>\n",
       "      <td>9.500000e+01</td>\n",
       "      <td>1.000000e+07</td>\n",
       "      <td>3.890000e+07</td>\n",
       "      <td>3.890000e+07</td>\n",
       "      <td>4.210000e+07</td>\n",
       "      <td>4.220000e+07</td>\n",
       "      <td>1.000000e+00</td>\n",
       "    </tr>\n",
       "  </tbody>\n",
       "</table>\n",
       "</div>"
      ],
      "text/plain": [
       "               step        amount  oldbalanceOrg  newbalanceOrig  \\\n",
       "count  1.048575e+06  1.048575e+06   1.048575e+06    1.048575e+06   \n",
       "mean   2.696617e+01  1.586670e+05   8.740095e+05    8.938089e+05   \n",
       "std    1.562325e+01  2.649409e+05   2.971751e+06    3.008271e+06   \n",
       "min    1.000000e+00  1.000000e-01   0.000000e+00    0.000000e+00   \n",
       "25%    1.500000e+01  1.214907e+04   0.000000e+00    0.000000e+00   \n",
       "50%    2.000000e+01  7.634333e+04   1.600200e+04    0.000000e+00   \n",
       "75%    3.900000e+01  2.137619e+05   1.366420e+05    1.746000e+05   \n",
       "max    9.500000e+01  1.000000e+07   3.890000e+07    3.890000e+07   \n",
       "\n",
       "       oldbalanceDest  newbalanceDest       isFraud  \n",
       "count    1.048575e+06    1.048575e+06  1.048575e+06  \n",
       "mean     9.781600e+05    1.114198e+06  1.089097e-03  \n",
       "std      2.296780e+06    2.416593e+06  3.298351e-02  \n",
       "min      0.000000e+00    0.000000e+00  0.000000e+00  \n",
       "25%      0.000000e+00    0.000000e+00  0.000000e+00  \n",
       "50%      1.263772e+05    2.182604e+05  0.000000e+00  \n",
       "75%      9.159235e+05    1.149808e+06  0.000000e+00  \n",
       "max      4.210000e+07    4.220000e+07  1.000000e+00  "
      ]
     },
     "execution_count": 9,
     "metadata": {},
     "output_type": "execute_result"
    }
   ],
   "source": [
    "bank.describe()"
   ]
  },
  {
   "cell_type": "markdown",
   "metadata": {},
   "source": [
    "#### 3.7 Box Plot for all Numerical Columns"
   ]
  },
  {
   "cell_type": "code",
   "execution_count": null,
   "metadata": {},
   "outputs": [
    {
     "data": {
      "image/png": "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",
      "text/plain": [
       "<Figure size 432x288 with 1 Axes>"
      ]
     },
     "metadata": {
      "needs_background": "light"
     },
     "output_type": "display_data"
    }
   ],
   "source": [
    "# Plot the dataframe\n",
    "ax = bank[['amount', 'oldbalanceOrg','newbalanceOrig','newbalanceDest']].plot(kind='box', title='boxplot')\n",
    "\n",
    "# Display the plot\n",
    "plt.show()"
   ]
  },
  {
   "cell_type": "markdown",
   "metadata": {},
   "source": [
    "**Observation**:\n",
    "\n",
    "There are many many outliers in all columns."
   ]
  },
  {
   "cell_type": "markdown",
   "metadata": {},
   "source": [
    "### 4. Exploratory Data Analysis"
   ]
  },
  {
   "cell_type": "markdown",
   "metadata": {},
   "source": [
    "### 5. Building Pipeline"
   ]
  },
  {
   "cell_type": "markdown",
   "metadata": {},
   "source": [
    "#### 5.2 Spliting Data into X and Y"
   ]
  },
  {
   "cell_type": "code",
   "execution_count": null,
   "metadata": {},
   "outputs": [],
   "source": [
    "X = bank.drop(columns =['isFraud'])\n",
    "y = bank['isFraud']"
   ]
  },
  {
   "cell_type": "code",
   "execution_count": null,
   "metadata": {},
   "outputs": [
    {
     "data": {
      "text/html": [
       "<div>\n",
       "<style scoped>\n",
       "    .dataframe tbody tr th:only-of-type {\n",
       "        vertical-align: middle;\n",
       "    }\n",
       "\n",
       "    .dataframe tbody tr th {\n",
       "        vertical-align: top;\n",
       "    }\n",
       "\n",
       "    .dataframe thead th {\n",
       "        text-align: right;\n",
       "    }\n",
       "</style>\n",
       "<table border=\"1\" class=\"dataframe\">\n",
       "  <thead>\n",
       "    <tr style=\"text-align: right;\">\n",
       "      <th></th>\n",
       "      <th>step</th>\n",
       "      <th>type</th>\n",
       "      <th>amount</th>\n",
       "      <th>oldbalanceOrg</th>\n",
       "      <th>newbalanceOrig</th>\n",
       "      <th>oldbalanceDest</th>\n",
       "      <th>newbalanceDest</th>\n",
       "    </tr>\n",
       "  </thead>\n",
       "  <tbody>\n",
       "    <tr>\n",
       "      <th>0</th>\n",
       "      <td>1</td>\n",
       "      <td>PAYMENT</td>\n",
       "      <td>9839.64</td>\n",
       "      <td>170136.00</td>\n",
       "      <td>160296.36</td>\n",
       "      <td>0.00</td>\n",
       "      <td>0.00</td>\n",
       "    </tr>\n",
       "    <tr>\n",
       "      <th>1</th>\n",
       "      <td>1</td>\n",
       "      <td>PAYMENT</td>\n",
       "      <td>1864.28</td>\n",
       "      <td>21249.00</td>\n",
       "      <td>19384.72</td>\n",
       "      <td>0.00</td>\n",
       "      <td>0.00</td>\n",
       "    </tr>\n",
       "    <tr>\n",
       "      <th>2</th>\n",
       "      <td>1</td>\n",
       "      <td>TRANSFER</td>\n",
       "      <td>181.00</td>\n",
       "      <td>181.00</td>\n",
       "      <td>0.00</td>\n",
       "      <td>0.00</td>\n",
       "      <td>0.00</td>\n",
       "    </tr>\n",
       "    <tr>\n",
       "      <th>3</th>\n",
       "      <td>1</td>\n",
       "      <td>CASH_OUT</td>\n",
       "      <td>181.00</td>\n",
       "      <td>181.00</td>\n",
       "      <td>0.00</td>\n",
       "      <td>21182.00</td>\n",
       "      <td>0.00</td>\n",
       "    </tr>\n",
       "    <tr>\n",
       "      <th>4</th>\n",
       "      <td>1</td>\n",
       "      <td>PAYMENT</td>\n",
       "      <td>11668.14</td>\n",
       "      <td>41554.00</td>\n",
       "      <td>29885.86</td>\n",
       "      <td>0.00</td>\n",
       "      <td>0.00</td>\n",
       "    </tr>\n",
       "    <tr>\n",
       "      <th>...</th>\n",
       "      <td>...</td>\n",
       "      <td>...</td>\n",
       "      <td>...</td>\n",
       "      <td>...</td>\n",
       "      <td>...</td>\n",
       "      <td>...</td>\n",
       "      <td>...</td>\n",
       "    </tr>\n",
       "    <tr>\n",
       "      <th>1048570</th>\n",
       "      <td>95</td>\n",
       "      <td>CASH_OUT</td>\n",
       "      <td>132557.35</td>\n",
       "      <td>479803.00</td>\n",
       "      <td>347245.65</td>\n",
       "      <td>484329.37</td>\n",
       "      <td>616886.72</td>\n",
       "    </tr>\n",
       "    <tr>\n",
       "      <th>1048571</th>\n",
       "      <td>95</td>\n",
       "      <td>PAYMENT</td>\n",
       "      <td>9917.36</td>\n",
       "      <td>90545.00</td>\n",
       "      <td>80627.64</td>\n",
       "      <td>0.00</td>\n",
       "      <td>0.00</td>\n",
       "    </tr>\n",
       "    <tr>\n",
       "      <th>1048572</th>\n",
       "      <td>95</td>\n",
       "      <td>PAYMENT</td>\n",
       "      <td>14140.05</td>\n",
       "      <td>20545.00</td>\n",
       "      <td>6404.95</td>\n",
       "      <td>0.00</td>\n",
       "      <td>0.00</td>\n",
       "    </tr>\n",
       "    <tr>\n",
       "      <th>1048573</th>\n",
       "      <td>95</td>\n",
       "      <td>PAYMENT</td>\n",
       "      <td>10020.05</td>\n",
       "      <td>90605.00</td>\n",
       "      <td>80584.95</td>\n",
       "      <td>0.00</td>\n",
       "      <td>0.00</td>\n",
       "    </tr>\n",
       "    <tr>\n",
       "      <th>1048574</th>\n",
       "      <td>95</td>\n",
       "      <td>PAYMENT</td>\n",
       "      <td>11450.03</td>\n",
       "      <td>80584.95</td>\n",
       "      <td>69134.92</td>\n",
       "      <td>0.00</td>\n",
       "      <td>0.00</td>\n",
       "    </tr>\n",
       "  </tbody>\n",
       "</table>\n",
       "<p>1048575 rows × 7 columns</p>\n",
       "</div>"
      ],
      "text/plain": [
       "         step      type     amount  oldbalanceOrg  newbalanceOrig  \\\n",
       "0           1   PAYMENT    9839.64      170136.00       160296.36   \n",
       "1           1   PAYMENT    1864.28       21249.00        19384.72   \n",
       "2           1  TRANSFER     181.00         181.00            0.00   \n",
       "3           1  CASH_OUT     181.00         181.00            0.00   \n",
       "4           1   PAYMENT   11668.14       41554.00        29885.86   \n",
       "...       ...       ...        ...            ...             ...   \n",
       "1048570    95  CASH_OUT  132557.35      479803.00       347245.65   \n",
       "1048571    95   PAYMENT    9917.36       90545.00        80627.64   \n",
       "1048572    95   PAYMENT   14140.05       20545.00         6404.95   \n",
       "1048573    95   PAYMENT   10020.05       90605.00        80584.95   \n",
       "1048574    95   PAYMENT   11450.03       80584.95        69134.92   \n",
       "\n",
       "         oldbalanceDest  newbalanceDest  \n",
       "0                  0.00            0.00  \n",
       "1                  0.00            0.00  \n",
       "2                  0.00            0.00  \n",
       "3              21182.00            0.00  \n",
       "4                  0.00            0.00  \n",
       "...                 ...             ...  \n",
       "1048570       484329.37       616886.72  \n",
       "1048571            0.00            0.00  \n",
       "1048572            0.00            0.00  \n",
       "1048573            0.00            0.00  \n",
       "1048574            0.00            0.00  \n",
       "\n",
       "[1048575 rows x 7 columns]"
      ]
     },
     "execution_count": 12,
     "metadata": {},
     "output_type": "execute_result"
    }
   ],
   "source": [
    "from sklearn.imblearn import SMOTE\n",
    "\n",
    "sm = SMOTE(random_state=42)\n",
    "X, y = sm.fit_resample(X, y)"
   ]
  },
  {
   "cell_type": "markdown",
   "metadata": {},
   "source": [
    "#### 5.3 Importing required libraries for creating pipeline"
   ]
  },
  {
   "cell_type": "code",
   "execution_count": null,
   "metadata": {},
   "outputs": [
    {
     "ename": "",
     "evalue": "",
     "output_type": "error",
     "traceback": [
      "\u001b[1;31mRunning cells with 'Python 3.9.13 64-bit (windows store)' requires ipykernel package.\n",
      "\u001b[1;31mRun the following command to install 'ipykernel' into the Python environment. \n",
      "\u001b[1;31mCommand: '\"c:/Users/laxman sarwade/AppData/Local/Microsoft/WindowsApps/python3.9.exe\" -m pip install ipykernel -U --user --force-reinstall'"
     ]
    }
   ],
   "source": [
    "from sklearn.model_selection import train_test_split\n",
    "from sklearn.model_selection import train_test_split\n",
    "from sklearn.preprocessing import OneHotEncoder\n",
    "from sklearn.compose import make_column_transformer\n",
    "from sklearn.preprocessing import StandardScaler\n",
    "from sklearn.pipeline import make_pipeline\n",
    "from sklearn.tree import DecisionTreeClassifier\n",
    "from sklearn.ensemble import RandomForestClassifier\n",
    "from sklearn.metrics import confusion_matrix, accuracy_score, classification_report"
   ]
  },
  {
   "cell_type": "markdown",
   "metadata": {},
   "source": [
    "#### 5.4 One Hot Encoding (Pipe 1)" #s
   ]
  },
  {
   "cell_type": "code",
   "execution_count": null,
   "metadata": {},
   "outputs": [
    {
     "data": {
      "text/html": [
       "<style>#sk-container-id-1 {color: black;background-color: white;}#sk-container-id-1 pre{padding: 0;}#sk-container-id-1 div.sk-toggleable {background-color: white;}#sk-container-id-1 label.sk-toggleable__label {cursor: pointer;display: block;width: 100%;margin-bottom: 0;padding: 0.3em;box-sizing: border-box;text-align: center;}#sk-container-id-1 label.sk-toggleable__label-arrow:before {content: \"▸\";float: left;margin-right: 0.25em;color: #696969;}#sk-container-id-1 label.sk-toggleable__label-arrow:hover:before {color: black;}#sk-container-id-1 div.sk-estimator:hover label.sk-toggleable__label-arrow:before {color: black;}#sk-container-id-1 div.sk-toggleable__content {max-height: 0;max-width: 0;overflow: hidden;text-align: left;background-color: #f0f8ff;}#sk-container-id-1 div.sk-toggleable__content pre {margin: 0.2em;color: black;border-radius: 0.25em;background-color: #f0f8ff;}#sk-container-id-1 input.sk-toggleable__control:checked~div.sk-toggleable__content {max-height: 200px;max-width: 100%;overflow: auto;}#sk-container-id-1 input.sk-toggleable__control:checked~label.sk-toggleable__label-arrow:before {content: \"▾\";}#sk-container-id-1 div.sk-estimator input.sk-toggleable__control:checked~label.sk-toggleable__label {background-color: #d4ebff;}#sk-container-id-1 div.sk-label input.sk-toggleable__control:checked~label.sk-toggleable__label {background-color: #d4ebff;}#sk-container-id-1 input.sk-hidden--visually {border: 0;clip: rect(1px 1px 1px 1px);clip: rect(1px, 1px, 1px, 1px);height: 1px;margin: -1px;overflow: hidden;padding: 0;position: absolute;width: 1px;}#sk-container-id-1 div.sk-estimator {font-family: monospace;background-color: #f0f8ff;border: 1px dotted black;border-radius: 0.25em;box-sizing: border-box;margin-bottom: 0.5em;}#sk-container-id-1 div.sk-estimator:hover {background-color: #d4ebff;}#sk-container-id-1 div.sk-parallel-item::after {content: \"\";width: 100%;border-bottom: 1px solid gray;flex-grow: 1;}#sk-container-id-1 div.sk-label:hover label.sk-toggleable__label {background-color: #d4ebff;}#sk-container-id-1 div.sk-serial::before {content: \"\";position: absolute;border-left: 1px solid gray;box-sizing: border-box;top: 0;bottom: 0;left: 50%;z-index: 0;}#sk-container-id-1 div.sk-serial {display: flex;flex-direction: column;align-items: center;background-color: white;padding-right: 0.2em;padding-left: 0.2em;position: relative;}#sk-container-id-1 div.sk-item {position: relative;z-index: 1;}#sk-container-id-1 div.sk-parallel {display: flex;align-items: stretch;justify-content: center;background-color: white;position: relative;}#sk-container-id-1 div.sk-item::before, #sk-container-id-1 div.sk-parallel-item::before {content: \"\";position: absolute;border-left: 1px solid gray;box-sizing: border-box;top: 0;bottom: 0;left: 50%;z-index: -1;}#sk-container-id-1 div.sk-parallel-item {display: flex;flex-direction: column;z-index: 1;position: relative;background-color: white;}#sk-container-id-1 div.sk-parallel-item:first-child::after {align-self: flex-end;width: 50%;}#sk-container-id-1 div.sk-parallel-item:last-child::after {align-self: flex-start;width: 50%;}#sk-container-id-1 div.sk-parallel-item:only-child::after {width: 0;}#sk-container-id-1 div.sk-dashed-wrapped {border: 1px dashed gray;margin: 0 0.4em 0.5em 0.4em;box-sizing: border-box;padding-bottom: 0.4em;background-color: white;}#sk-container-id-1 div.sk-label label {font-family: monospace;font-weight: bold;display: inline-block;line-height: 1.2em;}#sk-container-id-1 div.sk-label-container {text-align: center;}#sk-container-id-1 div.sk-container {/* jupyter's `normalize.less` sets `[hidden] { display: none; }` but bootstrap.min.css set `[hidden] { display: none !important; }` so we also need the `!important` here to be able to override the default hidden behavior on the sphinx rendered scikit-learn.org. See: https://github.com/scikit-learn/scikit-learn/issues/21755 */display: inline-block !important;position: relative;}#sk-container-id-1 div.sk-text-repr-fallback {display: none;}</style><div id=\"sk-container-id-1\" class=\"sk-top-container\"><div class=\"sk-text-repr-fallback\"><pre>OneHotEncoder()</pre><b>In a Jupyter environment, please rerun this cell to show the HTML representation or trust the notebook. <br />On GitHub, the HTML representation is unable to render, please try loading this page with nbviewer.org.</b></div><div class=\"sk-container\" hidden><div class=\"sk-item\"><div class=\"sk-estimator sk-toggleable\"><input class=\"sk-toggleable__control sk-hidden--visually\" id=\"sk-estimator-id-1\" type=\"checkbox\" checked><label for=\"sk-estimator-id-1\" class=\"sk-toggleable__label sk-toggleable__label-arrow\">OneHotEncoder</label><div class=\"sk-toggleable__content\"><pre>OneHotEncoder()</pre></div></div></div></div></div>"
      ],
      "text/plain": [
       "OneHotEncoder()"
      ]
     },
     "execution_count": 14,
     "metadata": {},
     "output_type": "execute_result"
    }
   ],
   "source": [
    "ohe = OneHotEncoder()\n",
    "ohe.fit(X[['type']])"
   ]
  },
  {
   "cell_type": "markdown",
   "metadata": {},
   "source": [
    "#### 5.5 Standard Scaler (Pipe 2)"
   ]
  },
  {
   "cell_type": "code",
   "execution_count": null,
   "metadata": {},
   "outputs": [],
   "source": [
    "column_trans = make_column_transformer(\n",
    "    (OneHotEncoder(categories=ohe.categories_),['type'])\n",
    "    ,remainder='passthrough'\n",
    "    )"
   ]
  },
  {
   "cell_type": "code",
   "execution_count": null,
   "metadata": {},
   "outputs": [],
   "source": [
    "scaler = StandardScaler(with_mean=False)"
   ]
  },
  {
   "cell_type": "markdown",
   "metadata": {},
   "source": [
    "#### 5.6 Models (Pipe 3)"
   ]
  },
  {
   "cell_type": "code",
   "execution_count": null,
   "metadata": {},
   "outputs": [],
   "source": [
    "rf = RandomForestClassifier()\n",
    "dt = DecisionTreeClassifier()"
   ]
  },
  {
   "cell_type": "markdown",
   "metadata": {},
   "source": [
    "#### 5.7 Making a Pipeline"
   ]
  },
  {
   "cell_type": "code",
   "execution_count": null,
   "metadata": {},
   "outputs": [
    {
     "data": {
      "text/html": [
       "<style>#sk-container-id-2 {color: black;background-color: white;}#sk-container-id-2 pre{padding: 0;}#sk-container-id-2 div.sk-toggleable {background-color: white;}#sk-container-id-2 label.sk-toggleable__label {cursor: pointer;display: block;width: 100%;margin-bottom: 0;padding: 0.3em;box-sizing: border-box;text-align: center;}#sk-container-id-2 label.sk-toggleable__label-arrow:before {content: \"▸\";float: left;margin-right: 0.25em;color: #696969;}#sk-container-id-2 label.sk-toggleable__label-arrow:hover:before {color: black;}#sk-container-id-2 div.sk-estimator:hover label.sk-toggleable__label-arrow:before {color: black;}#sk-container-id-2 div.sk-toggleable__content {max-height: 0;max-width: 0;overflow: hidden;text-align: left;background-color: #f0f8ff;}#sk-container-id-2 div.sk-toggleable__content pre {margin: 0.2em;color: black;border-radius: 0.25em;background-color: #f0f8ff;}#sk-container-id-2 input.sk-toggleable__control:checked~div.sk-toggleable__content {max-height: 200px;max-width: 100%;overflow: auto;}#sk-container-id-2 input.sk-toggleable__control:checked~label.sk-toggleable__label-arrow:before {content: \"▾\";}#sk-container-id-2 div.sk-estimator input.sk-toggleable__control:checked~label.sk-toggleable__label {background-color: #d4ebff;}#sk-container-id-2 div.sk-label input.sk-toggleable__control:checked~label.sk-toggleable__label {background-color: #d4ebff;}#sk-container-id-2 input.sk-hidden--visually {border: 0;clip: rect(1px 1px 1px 1px);clip: rect(1px, 1px, 1px, 1px);height: 1px;margin: -1px;overflow: hidden;padding: 0;position: absolute;width: 1px;}#sk-container-id-2 div.sk-estimator {font-family: monospace;background-color: #f0f8ff;border: 1px dotted black;border-radius: 0.25em;box-sizing: border-box;margin-bottom: 0.5em;}#sk-container-id-2 div.sk-estimator:hover {background-color: #d4ebff;}#sk-container-id-2 div.sk-parallel-item::after {content: \"\";width: 100%;border-bottom: 1px solid gray;flex-grow: 1;}#sk-container-id-2 div.sk-label:hover label.sk-toggleable__label {background-color: #d4ebff;}#sk-container-id-2 div.sk-serial::before {content: \"\";position: absolute;border-left: 1px solid gray;box-sizing: border-box;top: 0;bottom: 0;left: 50%;z-index: 0;}#sk-container-id-2 div.sk-serial {display: flex;flex-direction: column;align-items: center;background-color: white;padding-right: 0.2em;padding-left: 0.2em;position: relative;}#sk-container-id-2 div.sk-item {position: relative;z-index: 1;}#sk-container-id-2 div.sk-parallel {display: flex;align-items: stretch;justify-content: center;background-color: white;position: relative;}#sk-container-id-2 div.sk-item::before, #sk-container-id-2 div.sk-parallel-item::before {content: \"\";position: absolute;border-left: 1px solid gray;box-sizing: border-box;top: 0;bottom: 0;left: 50%;z-index: -1;}#sk-container-id-2 div.sk-parallel-item {display: flex;flex-direction: column;z-index: 1;position: relative;background-color: white;}#sk-container-id-2 div.sk-parallel-item:first-child::after {align-self: flex-end;width: 50%;}#sk-container-id-2 div.sk-parallel-item:last-child::after {align-self: flex-start;width: 50%;}#sk-container-id-2 div.sk-parallel-item:only-child::after {width: 0;}#sk-container-id-2 div.sk-dashed-wrapped {border: 1px dashed gray;margin: 0 0.4em 0.5em 0.4em;box-sizing: border-box;padding-bottom: 0.4em;background-color: white;}#sk-container-id-2 div.sk-label label {font-family: monospace;font-weight: bold;display: inline-block;line-height: 1.2em;}#sk-container-id-2 div.sk-label-container {text-align: center;}#sk-container-id-2 div.sk-container {/* jupyter's `normalize.less` sets `[hidden] { display: none; }` but bootstrap.min.css set `[hidden] { display: none !important; }` so we also need the `!important` here to be able to override the default hidden behavior on the sphinx rendered scikit-learn.org. See: https://github.com/scikit-learn/scikit-learn/issues/21755 */display: inline-block !important;position: relative;}#sk-container-id-2 div.sk-text-repr-fallback {display: none;}</style><div id=\"sk-container-id-2\" class=\"sk-top-container\"><div class=\"sk-text-repr-fallback\"><pre>Pipeline(steps=[(&#x27;columntransformer&#x27;,\n",
       "                 ColumnTransformer(remainder=&#x27;passthrough&#x27;,\n",
       "                                   transformers=[(&#x27;onehotencoder&#x27;,\n",
       "                                                  OneHotEncoder(categories=[array([&#x27;CASH_IN&#x27;, &#x27;CASH_OUT&#x27;, &#x27;DEBIT&#x27;, &#x27;PAYMENT&#x27;, &#x27;TRANSFER&#x27;],\n",
       "      dtype=object)]),\n",
       "                                                  [&#x27;type&#x27;])])),\n",
       "                (&#x27;standardscaler&#x27;, StandardScaler(with_mean=False)),\n",
       "                (&#x27;randomforestclassifier&#x27;, RandomForestClassifier())])</pre><b>In a Jupyter environment, please rerun this cell to show the HTML representation or trust the notebook. <br />On GitHub, the HTML representation is unable to render, please try loading this page with nbviewer.org.</b></div><div class=\"sk-container\" hidden><div class=\"sk-item sk-dashed-wrapped\"><div class=\"sk-label-container\"><div class=\"sk-label sk-toggleable\"><input class=\"sk-toggleable__control sk-hidden--visually\" id=\"sk-estimator-id-2\" type=\"checkbox\" ><label for=\"sk-estimator-id-2\" class=\"sk-toggleable__label sk-toggleable__label-arrow\">Pipeline</label><div class=\"sk-toggleable__content\"><pre>Pipeline(steps=[(&#x27;columntransformer&#x27;,\n",
       "                 ColumnTransformer(remainder=&#x27;passthrough&#x27;,\n",
       "                                   transformers=[(&#x27;onehotencoder&#x27;,\n",
       "                                                  OneHotEncoder(categories=[array([&#x27;CASH_IN&#x27;, &#x27;CASH_OUT&#x27;, &#x27;DEBIT&#x27;, &#x27;PAYMENT&#x27;, &#x27;TRANSFER&#x27;],\n",
       "      dtype=object)]),\n",
       "                                                  [&#x27;type&#x27;])])),\n",
       "                (&#x27;standardscaler&#x27;, StandardScaler(with_mean=False)),\n",
       "                (&#x27;randomforestclassifier&#x27;, RandomForestClassifier())])</pre></div></div></div><div class=\"sk-serial\"><div class=\"sk-item sk-dashed-wrapped\"><div class=\"sk-label-container\"><div class=\"sk-label sk-toggleable\"><input class=\"sk-toggleable__control sk-hidden--visually\" id=\"sk-estimator-id-3\" type=\"checkbox\" ><label for=\"sk-estimator-id-3\" class=\"sk-toggleable__label sk-toggleable__label-arrow\">columntransformer: ColumnTransformer</label><div class=\"sk-toggleable__content\"><pre>ColumnTransformer(remainder=&#x27;passthrough&#x27;,\n",
       "                  transformers=[(&#x27;onehotencoder&#x27;,\n",
       "                                 OneHotEncoder(categories=[array([&#x27;CASH_IN&#x27;, &#x27;CASH_OUT&#x27;, &#x27;DEBIT&#x27;, &#x27;PAYMENT&#x27;, &#x27;TRANSFER&#x27;],\n",
       "      dtype=object)]),\n",
       "                                 [&#x27;type&#x27;])])</pre></div></div></div><div class=\"sk-parallel\"><div class=\"sk-parallel-item\"><div class=\"sk-item\"><div class=\"sk-label-container\"><div class=\"sk-label sk-toggleable\"><input class=\"sk-toggleable__control sk-hidden--visually\" id=\"sk-estimator-id-4\" type=\"checkbox\" ><label for=\"sk-estimator-id-4\" class=\"sk-toggleable__label sk-toggleable__label-arrow\">onehotencoder</label><div class=\"sk-toggleable__content\"><pre>[&#x27;type&#x27;]</pre></div></div></div><div class=\"sk-serial\"><div class=\"sk-item\"><div class=\"sk-estimator sk-toggleable\"><input class=\"sk-toggleable__control sk-hidden--visually\" id=\"sk-estimator-id-5\" type=\"checkbox\" ><label for=\"sk-estimator-id-5\" class=\"sk-toggleable__label sk-toggleable__label-arrow\">OneHotEncoder</label><div class=\"sk-toggleable__content\"><pre>OneHotEncoder(categories=[array([&#x27;CASH_IN&#x27;, &#x27;CASH_OUT&#x27;, &#x27;DEBIT&#x27;, &#x27;PAYMENT&#x27;, &#x27;TRANSFER&#x27;],\n",
       "      dtype=object)])</pre></div></div></div></div></div></div><div class=\"sk-parallel-item\"><div class=\"sk-item\"><div class=\"sk-label-container\"><div class=\"sk-label sk-toggleable\"><input class=\"sk-toggleable__control sk-hidden--visually\" id=\"sk-estimator-id-6\" type=\"checkbox\" ><label for=\"sk-estimator-id-6\" class=\"sk-toggleable__label sk-toggleable__label-arrow\">remainder</label><div class=\"sk-toggleable__content\"><pre></pre></div></div></div><div class=\"sk-serial\"><div class=\"sk-item\"><div class=\"sk-estimator sk-toggleable\"><input class=\"sk-toggleable__control sk-hidden--visually\" id=\"sk-estimator-id-7\" type=\"checkbox\" ><label for=\"sk-estimator-id-7\" class=\"sk-toggleable__label sk-toggleable__label-arrow\">passthrough</label><div class=\"sk-toggleable__content\"><pre>passthrough</pre></div></div></div></div></div></div></div></div><div class=\"sk-item\"><div class=\"sk-estimator sk-toggleable\"><input class=\"sk-toggleable__control sk-hidden--visually\" id=\"sk-estimator-id-8\" type=\"checkbox\" ><label for=\"sk-estimator-id-8\" class=\"sk-toggleable__label sk-toggleable__label-arrow\">StandardScaler</label><div class=\"sk-toggleable__content\"><pre>StandardScaler(with_mean=False)</pre></div></div></div><div class=\"sk-item\"><div class=\"sk-estimator sk-toggleable\"><input class=\"sk-toggleable__control sk-hidden--visually\" id=\"sk-estimator-id-9\" type=\"checkbox\" ><label for=\"sk-estimator-id-9\" class=\"sk-toggleable__label sk-toggleable__label-arrow\">RandomForestClassifier</label><div class=\"sk-toggleable__content\"><pre>RandomForestClassifier()</pre></div></div></div></div></div></div></div>"
      ],
      "text/plain": [
       "Pipeline(steps=[('columntransformer',\n",
       "                 ColumnTransformer(remainder='passthrough',\n",
       "                                   transformers=[('onehotencoder',\n",
       "                                                  OneHotEncoder(categories=[array(['CASH_IN', 'CASH_OUT', 'DEBIT', 'PAYMENT', 'TRANSFER'],\n",
       "      dtype=object)]),\n",
       "                                                  ['type'])])),\n",
       "                ('standardscaler', StandardScaler(with_mean=False)),\n",
       "                ('randomforestclassifier', RandomForestClassifier())])"
      ]
     },
     "execution_count": 19,
     "metadata": {},
     "output_type": "execute_result"
    }
   ],
   "source": [
    "pipe = make_pipeline(column_trans, scaler,rf)\n",
    "pipe"
   ]
  },
  {
   "cell_type": "markdown",
   "metadata": {},
   "source": [
    "#### 5.8 Function Defination"
   ]
  },
  {
   "cell_type": "markdown",
   "metadata": {},
   "source": [
    "##### 5.8.1 Function for training data through Pipeline"
   ]
  },
  {
   "cell_type": "code",
   "execution_count": null,
   "metadata": {},
   "outputs": [],
   "source": [
    "def train_model(X, y, transformer, scaler, model):\n",
    "    X_train, x_test, Y_train, y_test = train_test_split(X, y, test_size=0.3, random_state=1)\n",
    "    pipe = make_pipeline(transformer, scaler, model)\n",
    "    pipe.fit(X_train, Y_train)\n",
    "    y_pred = pipe.predict(x_test)\n",
    "    \n",
    "    return y_test, y_pred, pipe"
   ]
  },
  {
   "cell_type": "markdown",
   "metadata": {},
   "source": [
    "##### 5.8.2 Function for Metrics Calculation"
   ]
  },
  {
   "cell_type": "code",
   "execution_count": null,
   "metadata": {},
   "outputs": [],
   "source": [
    "def metrics(y_test, y_pred):\n",
    "    cm = confusion_matrix(y_test, y_pred)\n",
    "    acc = accuracy_score(y_test, y_pred)\n",
    "    cr = classification_report(y_test, y_pred)\n",
    "\n",
    "    return cm, acc, cr"
   ]
  },
  {
   "cell_type": "markdown",
   "metadata": {},
   "source": [
    "### 6. Pushing Data into Pipeline"
   ]
  },
  {
   "cell_type": "code",
   "execution_count": null,
   "metadata": {},
   "outputs": [],
   "source": [
    "y_test, y_pred, pipe = train_model(X, y, column_trans, scaler, rf)"
   ]
  },
  {
   "cell_type": "markdown",
   "metadata": {},
   "source": [
    "### 7. Calculating Metrics"
   ]
  },
  {
   "cell_type": "code",
   "execution_count": null,
   "metadata": {},
   "outputs": [],
   "source": [
    "cm, acc, cr = metrics(y_test, y_pred)"
   ]
  },
  {
   "cell_type": "markdown",
   "metadata": {},
   "source": [
    "#### 7.1 Heatmap for Confusion Matrix"
   ]
  },
  {
   "cell_type": "code",
   "execution_count": null,
   "metadata": {},
   "outputs": [
    {
     "data": {
      "image/png": "iVBORw0KGgoAAAANSUhEUgAAAV4AAAEcCAYAAACPu9x9AAAAOXRFWHRTb2Z0d2FyZQBNYXRwbG90bGliIHZlcnNpb24zLjUuMywgaHR0cHM6Ly9tYXRwbG90bGliLm9yZy/NK7nSAAAACXBIWXMAAAsTAAALEwEAmpwYAAAzr0lEQVR4nO3deVxUVeMG8IclQJaRRcUB3NBAXEFxzRUXSA3EUhAtytfsTcHtdSEXyIUSNS0F9ddmWKYtbokobqllhZErooKISrIli+zbzP39YU7SZRmQO4g83z7382HuOffecwd7OHPmzBktQRAEEBGRxmg3dAOIiJoaBi8RkYYxeImINIzBS0SkYQxeIiINY/ASEWkYg7eJOnbsGIYOHQonJyfExcU1dHOqJQgC3nnnHfTp0wevvPJKnc8TExMDV1fXemxZwwgMDERYWFhDN4OehNDEDR8+XDh79myFfXv27BG8vb3r5fx2dnbC7du3qyzfs2ePYGdnJwQHB1fYf+zYMcHOzk5YvHhxvbTj30aMGCEcO3asXs955swZwcfHR3B0dBT69esnTJkyRTh+/PgTn/f3338XBg8eLBQUFNRDK+tfcnKyYGdnJ3h4eFTYn5mZKXTt2lUYPny4Wuepz3939HRjj/cp0LZtWxw+fBjl5eWqffv370f79u0lu2ZKSgqef/75Oh2rUChE+44cOYI5c+Zg/PjxOHPmDH755RfMnj0bP/7445M2Fffu3YO1tTUMDQ2f+FxSKioqQnx8vOpxREQErK2t6/UalT331PgweNWQnp4Of39/9O/fHy4uLtixY4eq7PLly/Dy8oKzszMGDRqElStXorS0FAAwZcoUAICHhwecnJwQGRlZ6flbtGgBOzs7/PzzzwCAnJwcXLhwAS4uLhXqzZ49Gy+88AJ69+6NKVOmICEhQVUWEBCAwMBAvPHGG3BycsLUqVNx79490bVKS0vh5OQEhUIBDw8PjBw5EgCQmJiIV199Fc7Ozhg7dixOnDhR4dxBQUF488034ejoiOjo6ArnFAQBa9aswcyZMzFx4kSYmJhAW1sbffv2xerVqwEASqUSW7ZswfDhwzFgwAAsWrQIeXl5AIA///wT9vb22LdvH4YNG4Z+/fph69atAIDvvvsOy5Ytw8WLF+Hk5IRNmzZh7969mDx5coU22Nvb486dOwCA06dPY8yYMXBycsLgwYPx2WefAQCio6MxZMgQ1TE13fOKFSswY8YMODk5YeLEibh7926lv79HPDw8sG/fPtXj/fv3Y/z48RXqfPzxxxg5ciScnJwwZswYHDt2TNWWoKAg1X06OztX+dwHBARg48aNqvNNnDhR9Uf766+/xtixY1FSUlJtW6mBNXSXu6HVNNSgUCgET09PYfPmzUJJSYlw9+5dwcXFRThz5owgCIJw5coV4cKFC0JZWZmQnJwsuLm5Cdu3b1edS52hBm9vb+GHH34Q5syZIwiCIHz11VfC8uXLhQ0bNlQYavjuu++EvLw8oaSkRFi9erXg7u6uKlu8eLHg6OgonDt3TigpKRFWrVpV7cvWx9tVWloqjBw5Uti6datQUlIi/PLLL4Kjo6OQmJioOnevXr2EmJgYQaFQCMXFxRXOdfPmTcHOzk64e/duldf77rvvhJEjRwp3794V8vPzhVmzZgkLFiwQBOGfl+pLly4VioqKhGvXrgldu3YVbt68Kfp9VPb43/fzwgsvCL///rsgCIKQk5MjxMbGCoIgCL/99pswePBgte+5b9++wqVLl4SysjJh/vz5wty5cyu9t0ftT05OFoYMGSKUl5cLCQkJgqurq3D27NkKQw2RkZFCWlqaoFAohEOHDgk9e/YU0tPTq7yvyp77xYsXCxs2bBAE4eG/Tx8fH2HTpk1CUlKS4OzsLFy9erXK3wM9HdjjBTBr1iw4OzurthUrVqjKrly5gqysLPj5+UFPTw9t2rTBpEmTVL3Xbt26wdHREbq6urCxsYGXlxd+//33Wrdh1KhROHfuHPLy8nDgwAF4eHiI6rzyyiswNjaGnp4e/P39cf36dVWvEQCGDRuGPn36QE9PD/PmzcPFixeRmppa47UvXbqEwsJCzJgxA3p6ehgwYACGDx+OQ4cOqeqMGDECvXv3hra2NvT19Sscn5OTAwBo1apVldc4ePAgXn/9dbRp0wZGRkaYP38+IiMjKwyv+Pn5wcDAAJ07d0bnzp1x/fr1GtteGV1dXdy8eRP5+flo3rw5unbtWqd7HjlyJHr06AFdXV24u7vj2rVr1V63devW6NChA3755Rfs37+/0t/hiy++CEtLS2hra2PMmDFo164dLl++XO15q3vutbW1ERISgi+//BJvv/02pk+fji5dulR7Pmp4ug3dgKdBWFgYBg4cqHq8d+9efPfddwAeji9mZGSoXvoBD8fZHj1OSkrCmjVrEBsbi6KiIigUikr/R6+JgYEBhg4dii1btiAnJwe9e/fGmTNnKlxz48aNOHLkCLKysqCt/fBvZnZ2NkxMTAA8/B//ESMjIzRv3hwZGRmQy+XVXjsjIwOtW7dWnRMArKyskJ6ernpc3TlMTU1V52nTpk2V13h8vNPa2hrl5eXIzMxU7WvRooXq52bNmqGwsLDadldl06ZN2Lp1Kz744APY29vjf//7H5ycnETtqemeH2+PgYGBWu0ZP3489u3bhwsXLmDnzp24fft2hfL9+/dj+/btqmGgwsJCZGdnV3vOmn5/NjY26NevH06fPq0a3qKnG3u8NZDL5bCxsUFMTIxqu3DhAj755BMAwLvvvgtbW1tERUXh/PnzmDdvHoQ6Lvg2fvx4bN++He7u7qKygwcP4sSJE9i+fTv++OMPnDx5EgAqXCstLU31c0FBAR48eFBtL/SRVq1aIS0tDUqlUrUvNTUVlpaWarXb1tYWcrkcR48erfYaj485p6SkQFdXFxYWFmpd43HNmjVDcXGx6vFff/1VobxHjx7YunUrfvnlF4wcORJz586ttD1Pcs9VGT16NE6dOgUbGxtYWVlVKLt37x6WLVuG5cuXIzo6GjExMRXe4NTS0qrTNU+dOoULFy5gwIABWLt27RO1nzSDwVuDHj16wMjICB9//DGKi4uhUCgQHx+venlYUFAAIyMjGBkZITExEbt27apwfIsWLZCcnKzWtfr27Yvt27dj6tSporKCggLo6enBzMwMRUVF2LBhg6jO6dOnERMTg9LSUnz00Ufo2bNnjb2lR/doYGCATz/9FGVlZYiOjsbJkycxZswYtdqtpaWFgIAAbNmyBXv27EF+fj6USiViYmKwfPlyAMC4ceMQHh6O5ORkFBQUYOPGjXjxxRehq1v7F12dO3dGQkICrl27hpKSEmzevFlVVlpaih9++AF5eXl47rnnYGRkVKFXW1/3XBVDQ0OEh4cjODhYVFZUVAQtLS2Ym5sDAPbs2VPhDVILCwukp6er3pxVR1ZWFpYtW4bg4GCsWbMGJ0+exOnTp5/oHkh6DN4a6OjoYNu2bbh+/TpGjBiB/v37Y9myZcjPzwcALF68GBEREejVqxeWL18u+h/Xz88PAQEBcHZ2rnJWwyNaWloYMGCA6qX748aPHw8rKysMHjwYY8eOhaOjo6jOuHHjEBYWhn79+uHq1atYt26dWveop6eHbdu24cyZM+jfvz9WrFiBtWvXomPHjmodDwBubm7YuHEj9uzZg8GDB2PgwIH46KOPMGLECADAyy+/DHd3d0ydOhUjRoyAnp6eKpRrq0OHDpg1axZef/11jB49Gr17965QfuDAAbi4uKBXr17YvXt3pc9DfdxzVbp37462bduK9nfq1AnTpk2Dt7c3Bg4ciPj4ePTq1UtV3r9/f3Tq1AmDBg1Cv3791LpWYGAgXFxcMHToUJiZmSE4OBhLly6tcfiCGpaWUNfXxfRUCQgIgKWlJebNm9fQTSGiGrDHS0SkYQxeIiIN41ADEZGGscdLRKRhDF4iIg1rdJ9cK7t/q6GbQHXUzGpwQzeBnkB5qXjRJXXU5v/Z51rY1ukajU2jC14iamSUXMry3xi8RCQtRXnNdZoYBi8RSUoQlDVXamIYvEQkLSWD998YvEQkLfZ4RTidjIikpVSov9XCzJkz4e7ujvHjx8PHx0e1UH1SUhK8vLzg6uoKLy+vCmsia7qsKo3uk2ucTtZ4cTpZ41bX6WSlt2PUrqvX3rnmSn/Ly8tTfQnA8ePHERYWhn379uG1117Dyy+/DA8PDxw4cAB79uxRfU+ipsuqwh4vEUlKUJSrvdXGo9AFgPz8fGhpaSEzMxNxcXEYN24cgIdLpcbFxSErK0vjZdXhGC8RSasWb67l5uYiNzdXtF8mk0Emk4n2L126FGfPnoUgCPj0009V3yKio6MD4OF62q1atUJqaioEQdBo2aMF7yvD4CUiadXizbXw8HCEhoaK9vv5+cHf31+0/9E3fezfvx9r167FnDlz6t5ODWLwEpG0avGmma+vLzw9PUX7K+vtPm78+PEIDAxE69atkZ6eDoVCAR0dHSgUCtUXvgqCoNGy6nCMl4ikJSjV3mQyGWxsbETbv4O3oKAAqampqscnT55E8+bNYWFhAQcHB0RERAAAIiIi4ODgAHNzc42XVYezGkhjOKuhcavrrIaS2GNq19XvNkqtevfv38fMmTNRVFQEbW1tNG/eHIsXL0bXrl2RmJiIgIAA5ObmQiaTISQkBLa2Dxff0XRZVRi8pDEM3satzsF7OUrtuvo9XOt0jcaGY7xEJClB4Opk/8bgJSJp8SPDIgxeIpIWF8kRYfASkbTY4xVh8BKRtBRlDd2Cpw6Dl4ikxaEGEQYvEUmLQw0iDF4ikhZ7vCIMXiKSFoNXhMFLRJIS+OaaCIOXiKTFMV4RBi8RSYtDDSIMXiKSFnu8IgxeIpIWe7wiDF4ikhZ7vCIMXiKSVnntvj24KWDwEpG02OMVYfASkbQ4xivC4CUiabHHK8LgJSJpsccrwuAlImmxxyvC4CUiaXFWgwiDl4ikJQgN3YKnDoOXiKTFMV4RBi8RSYvBK8LgJSJp8c01EQYvEUlLoaj3U2ZnZ2PRokW4e/cu9PT00K5dO6xcuRLm5uawt7eHnZ0dtLW1AQBr166Fvb09AODkyZNYu3YtFAoFunbtivfffx/NmjWTrKwq2vX+jBARPU6pVH9Tk5aWFqZPn46oqCgcPHgQbdq0wfr161Xlu3fvxoEDB3DgwAFV6BYUFGD58uXYtm0bjh07BiMjI3z22WeSlVWHwUtE0qpF8Obm5uLPP/8Ubbm5uRVOaWpqin79+qkeOzo6IiUlpdpmnDlzBt26dUP79u0BAN7e3jh8+LBkZdXhUAMRSasWY7zh4eEIDQ0V7ffz84O/v3+lxyiVSuzatQsuLi6qfa+++ioUCgWGDBkCf39/6OnpITU1FVZWVqo6VlZWSE1NBQBJyqrD4CUiSQlK9efx+vr6wtPTU7RfJpNVecyqVatgaGiIqVOnAgBOnToFuVyO/Px8LFy4EGFhYZg3b17tGy4hDjUQkbRqMdQgk8lgY2Mj2qoK3pCQENy5cwcffvih6s00uVwOADA2NsbEiRNx/vx51f7HhyNSUlJUdaUoqw6Dl4ikpVCov9XChg0bEBsbi7CwMOjp6QEAHjx4gOLiYgBAeXk5oqKi4ODgAAAYPHgwrly5gtu3bwN4+Abciy++KFlZdbQEoXF9nq/s/q2GbgLVUTOrwQ3dBHoC5aX36nRc4eaZatc19N+iVr2EhASMGzcO7du3h4GBAQDAxsYG06dPR2BgILS0tFBeXg4nJycsWbIERkZGAIDjx49j3bp1UCqVcHBwwJo1a2BoaChZWVUYvJVYvGItov+4iKKiYrSwMMcbPq/gFXc3lJWVYdG7Ibh6PQEpaRn4fHMI+vbqIW5jWRkm+M5CYWEhTuz/CgBw++6f+CDsM1yMjYNCoUQ3Bzu8M/dtdGhnIzr+P7MDEP3HJVw8HQFdXR0AwL3UdCwL3oArcTcgt2yJJfNnYkAfp0rbX1paipXrQ3Hsx59hYGCAaVNega/3BFX5bzEXEPzBFqSm/4XuXewRvGw+rFpb1sdTV63GGryTJrlj+bL5aNvGGmlpGfjP9Hn4+ew5Ub05s9/EwgUzYWjYDHv2HsIsv3dQWloKAGjXzgaffbIRffs64W7yPcyZswwnTv6k6Vt5InUO3o/+q3Zdwznb6nSNxoZDDZV481UvHP3+C0Qf24vNIUHY/MkOXL2eAADo1aMr1gQuRAsLsyqP//zr72Fu2rzCvrz8Agwb1B8Ruz7F6Yhd6O5gj9kBK0THRkSdRHm5+CXXoqA1cLDriJ8Pf4PZM3wxf1kwsrJzKr1+2Gc7cTc5BUf3hOPzzWvw+c7v8fNvMQCA7JwHmLtkNfzefA1nD3+Lrp2fx4Ll76v71DQ5I0cMxvvBSzF9+nyYmtth+IiXcSvprqje6FFDsWjhLIx284Jtp36w7dAW7wb9T1W+88stuHgxFq1ad8PywBB8s/v/0KKFuSZvpeEIgvpbE8HgrUQn23aqMSMtaEFLC0i+l4rnnnsOr3p5olfPbtDRrvyp+zMlDRFRP2L6q5Mq7O/exR4vv+SK5jITPKeri9e8PZF090/kPPhnfmJefgG2bv8a82dOq3Ds7bt/Ii7+Jmb9ZyoM9PUxavggPG/bHsdOna20DT8cPo63Xp+M5jITdGzfFq+85Ib9kccAAMdPn0XHDu3g6jIY+vp6mPmfqbhxMwm37iTX+fl6lgUFLsDq4I2IPncegiAgJSUNKSlponqvvjoR27/Yjbi4eOTkPEDwex/htb//DTz/vC2cnLrh3ZXrUVxcjH37IhEbex0TPMdq+nYahgQfoGjsNBa82dnZuHbtGq5du4bs7GxNXbbOVq0PhbPLeLzk8yZaWphjyIA+ah333satmPOWL/T19autF3PxClpYmMG0+T/v1n70f1/Aa/xYtLCo2BO6mXQHNlZyGBn9M25k38kWiUl3ROd9kJuHvzKzYP+87T91n++AxL97aTeT7sK+UwdVmWEzA7SxliPxlvhcTZ22tjZ69+6Bli0tcD3uZ9y+FYOPPlytGlN8XJcu9rh0OU71+NLlq2jduhXMzc3QpYsdbiXdRX5+wWPlcejSxU4j99HglIL6WxMhefDevXsXvr6+GD16NBYsWIAFCxZg9OjR8PX1Vb0T+DRavsAP0cf2YMeWdRg59AU8p/dcjcccP30WSqUSI4e+UG29tIy/EPzBFizyn6HaF3stHhcux8HnFXdR/cKiYpgYVRysNzY2REFhUaV1AcDk7zcTAMDYyAgFhYV/lxfBxNiowjHGxkaVnqups7RsCT09PUyYMBbDXCagd59RcHLshqVL5ojqGhsZIvexVy8PHuQBAExMjGBsbITcvx8/kpubBxMTY2lv4Gkh0ayGxkzy4F20aBFefvllREdH49ChQzh06BCio6MxYcIELF68WOrLPxEdHR306tkNaRn38c2+Q9XWLSwqxoYtn+OdudW/kZCVnYMZ85bCa8JYjBk1DMDDT96s/iAMAXPfUr2Z9jjDZgbI/zs4HykoKISRoXghDsNmD3tjj9d/WNfw7/JmyC9Q71xNXdHff8TCtmxHWloGMjOzsfGjj+Hm5iKqm19QCBOZieqx7O+f8/IKkJ9fABNZxZA1MTFGXl6+hK1/eghKpdpbUyF58Obk5MDd3V01uRl4+BLOw8MDDx48kPry9UKhUCD5XvUfA7ybfA8pqel4beZCDH3JB3OXrMJfmdkY+pIP7qWmA3g4DDBj3lIMH9Qfb/lOVh2bX1CIq9cTsCBwDYa+5APv6bMBACM8X8UfF2PRqUM7/JmShoLHAvPGzSR07NBO1I7mMhO0tDDHjYRbj9W9hY4d2gIAOnVoixs3k1RlhUXFSL6Xio624nM1dTk5D5CcnILHJ/5UNQkoLu4Gevboonrcs0cXpKVlICsrG3Fx8bDt0BbGj73S6NmjC+Li4qVr/NOEQw0ikgevqakpIiIiRP94f/jhh2o/BthQMrNzEHn8FAoLi6BQKHA2+g8cPn4K/Xs7Ang4Vauk5OEUobKyMpSUlEIQBHSybY/j+3Zgzxeh2PNFKFYEzIWFmSn2fBGK1q1aIL+gAG/NXwan7l0x7+2Kb56ZGBvhxwNfqY7dsn4lAODbzzehR1d7tG9rg86dbLFl+06UlJTi+OmziE9MwqhhlQ9puL84Ah+H78KD3DzcupOM7w8ewfgxowAAI4YMxM1bt3Hsx59RUlKKbdt3wq5je9i2ayPRM9q4he/4BrNmvoGWLS1gatocc2e/icjI46J6X331Pd543RsODs+jeXMZlrwzBzu+/BYAkJBwC5cuxSFw2Xzo6+vDw8MN3bs7YG8Nr6KeGYJS/a2JkHwe7+3btxEUFIRr167B0vLhXNH09HR07twZ7777LmxtbWs4Q0VSz+PNys7B/GXBuHEzCUqlElatLTFlojtecX/4aZTRL/siJS2jwjFR338Ba3nFebDnzl/GOyvXqubxHog8hqXBG9DMQB/Q0lLV++Gr/4O8dasKx95LTYfrK6+L5vEuDf4AV64+nMe79H+zVPN4I6JO4pMd3+DAzv8DUHEer76+Pv4zdWKFeby//n4B723YgpS0DHTvao/gpf8TtV8KjXEer66uLjZuWInJ3uNRXFyC774/iIB3gtGqlQWuXDqF7j2HITn54UdG586ZgYULZqJZMwPs3ReJmbMCKszj/fzTR/N4UzB79tImM4+3YOUUtesaBe6s0zUaG419gCIrK0u1ao9cLoe5ed3mMPKTa41XYwxe+kedgzfQW+26Rit31+kajY3GViczNzevc9gSUSPWhIYQ1MVlIYlIWk3oTTN1MXiJSFJNaZqYuhi8RCQt9nhFGLxEJC0GrwiDl4ik1YQ+CqwuBi8RSao237nWVDB4iUhaDF4RBi8RSYuzGkQYvEQkLfZ4RRi8RCQtBq8Ig5eIJCUoONTwbwxeIpIWe7wiDF4ikhSnk4kxeIlIWgxeEQYvEUmLQ7wiGvt6dyJqmoRypdqburKzs/Hmm2/C1dUVL730Evz8/JCVlQUAuHjxItzd3eHq6opp06YhMzNTdZymy6rC4CUiaSlrsalJS0sL06dPR1RUFA4ePIg2bdpg/fr1UCqVWLhwIQIDAxEVFQVnZ2esX7/+YTM0XFYdBi8RSUpQCmpv6jI1NUW/fv1Ujx0dHZGSkoLY2Fjo6+vD2dkZAODt7Y0jR44AgMbLqsMxXiKSVi16srm5ucjNzRXtl8lkVX4ruVKpxK5du+Di4oLU1FRYWVmpyszNzaFUKpGTk6PxMlNT0yrvk8FLRJKqTU82PDwcoaGhov1+fn7w9/ev9JhVq1bB0NAQU6dOxbFjx+rcTk1i8BKRtGrR4/X19YWnp6dof1W93ZCQENy5cwfbtm2DtrY25HI5UlJSVOVZWVnQ1taGqampxsuqwzFeIpKUUK7+JpPJYGNjI9oqC94NGzYgNjYWYWFh0NPTAwB069YNxcXFiImJAQDs3r0bbm5uDVJWHS1BEBrV7Oay+7cauglUR82sBjd0E+gJlJfeq9Nx918cqnbdFodPq1UvISEB48aNQ/v27WFgYAAAsLGxQVhYGM6fP4+goCCUlJTA2toa69atQ4sWLQBA42VVYfCSxjB4G7c6B69rLYI3Sr3gbew4xktEkhL4yTURBi8RSYrBK8bgJSJJCQqthm7CU4fBS0SSYo9XjMFLRJISlOzx/huDl4gkxR6vGIOXiCQlCOzx/huDl4gkxR6vGIOXiCSl5KwGEQYvEUmKb66JMXiJSFIMXjG1gre0tBT79u3DtWvXUFhYWKFs7dq1kjSMiJ4NjWs1GM1QK3gDAgJw/fp1DB8+vMZVd4iIHscer5hawfvTTz/hxIkTVS5GTERUFU4nE1MreOVyOUpLS6VuCxE9gxSc1SBSZfD++uuvqp/Hjx+PmTNn4rXXXoOFhUWFegMGDJCudUTU6LHHK1blQuguLi41H6ylhRMnTtR7o6rDhdAbLy6E3rjVdSH063Zj1K7bOT6yTtdobKrs8Z48eVKT7SCiZxRnNYip9WWXb7/9dqX7/fz86rUxRPTsEZRaam9NhVpvrkVHR1e6/9y5c/XaGCJ69iiU/DLzf6s2eD/66CMAQFlZmernR5KTk2FlZSVdy4jomcChBrFqgzctLQ0AIAiC6udH5HI5/P39pWsZET0TlJzVIFJt8L7//vsAACcnJ0yaNEkjDSKiZwunk4mpNcY7YMAAJCcnV1rWpk2bem0QET1bONQgplbwjho1ClpaWnh8yq+W1sO/YteuXZOmZUT0TOBQg5hawXv9+vUKj//66y+EhobC2dlZkkZVh5PwiRoXzmoQq9Mz0rJlSyxduhQbNmyo7/YQ0TNGqMWmrpCQELi4uMDe3h7x8fGq/S4uLnBzc4OHhwc8PDzw008/qcouXrwId3d3uLq6Ytq0acjMzJS0rDp1/lN069YtFBUV1fVwImoilIKW2pu6RowYgZ07d8La2lpUtmnTJhw4cAAHDhzA4MEPXyErlUosXLgQgYGBiIqKgrOzM9avXy9ZWU3UCl4fHx9MmTJFtU2YMAGTJk3CG2+8odZFiKjpEgQttTd1OTs7Qy6Xq10/NjYW+vr6quFRb29vHDlyRLKymqg1xjtx4sQKj5s1a4bOnTujffv2al2EiJqu2nzJcG5uLnJzc0X7ZTKZ2uuBL1iwAIIgoHfv3pg/fz5kMhlSU1MrfODL3NwcSqUSOTk5kpSZmppW28Yag1ehUOC3337DqlWroKenp9aNExE9IkD9nmx4eDhCQ0NF+/38/NT6wNbOnTtV64cHBwdj5cqVar/816Qag1dHRwdnz55VTR8jIqqN8loMIfj6+sLT01O0X93e7qPhBz09Pfj4+KgW+JLL5UhJSVHVy8rKgra2NkxNTSUpq4laY7y+vr7YvHkzysrK1KlORKQiQEvtTSaTwcbGRrSpE7yFhYXIy8t7eE1BQGRkJBwcHAAA3bp1Q3FxMWJiYgAAu3fvhpubm2RlNalyIXQAiIiIwLhx4zB06FDcv38f2traMDc3r9D7PXXqlFoXqi+6euJ3MYlIenVdCP2YpZfadUelf6NWvdWrV+Po0aO4f/8+zMzMYGpqim3btsHf3x8KhQJKpRIdO3bEsmXL0KpVKwDA+fPnERQUhJKSElhbW2PdunWqL++Voqw61QZvr169cP78+WqXf+zbt69aT1R9YfASNYy6Bu9RS2+1645O312nazQ21Y7xPspkTYcrET07ajOroamoNniVSiV+++03VNMp5pddElG1FLWY1dBUVBu8paWlWLp0aZXB2xBfdklEjUsT+kYftVUbvM2aNWOwEtETUbLHK6LWJ9eIiOqKy/GKqfXmGhFRXfHNNbFqg/fChQuaagcRPaOU/NSrCIcaiEhSioZuwFOIwUtEkuKsBjEGLxFJirMaxBi8RCQpvkUvxuAlIklxqEGMwUtEkuJ0MjEGLxFJSsEerwiDl4gkxR6vGIOXiCTF4BVj8BKRpGrxlWtNBoOXiCTFHq8Yg5eIJMWPDIsxeIlIUpzHK8bgJSJJcahBjMFLRJJi8IoxeIlIUlyrQYzBS0SS4hivGIOXiCTFWQ1i2g3dACJ6tikhqL2pKyQkBC4uLrC3t0d8fLxqf1JSEry8vODq6govLy/cvn27wcqqw+AlIkkpa7Gpa8SIEdi5cyesra0r7A8KCoKPjw+ioqLg4+ODwMDABiurDoOXiCQl1GJTl7OzM+RyeYV9mZmZiIuLw7hx4wAA48aNQ1xcHLKysjReVhOO8RKRpGrTk83NzUVubq5ov0wmg0wmq/bY1NRUWFpaQkdHBwCgo6ODVq1aITU1FYIgaLTM3Ny82rYyeIlIUrWZ1RAeHo7Q0FDRfj8/P/j7+9djqxoWg5eIJKWoxSCCr68vPD09Rftr6u0CgFwuR3p6OhQKBXR0dKBQKJCRkQG5XA5BEDRaVhOO8RKRpGrz5ppMJoONjY1oUyd4LSws4ODggIiICABAREQEHBwcYG5urvGymmgJgtCoPliiq2ddcyUiqnflpffqdNzi9pPVrhtye5da9VavXo2jR4/i/v37MDMzg6mpKQ4dOoTExEQEBAQgNzcXMpkMISEhsLW1BQCNl1WHwUtEaqlr8C6qRfCuVTN4GzuO8RKRpLhIjhiDl4gkVZs315oKBi8RSYo9XjEGLxFJSmCPV4TBS0SSYo9XjPN4JTBpkjuuXD6FB9kJuHHtLAa90BcAMO2Nybge9zNysuJx6OBXkMstqzyHmZkpvv/uUzzITkBiQjS8vcdXKPf2Ho/EhGg8yE7Anu8/g5mZqYR39GzS09PDx/+3HokJ0cjOvIGY34/CzXU4AKBdOxuUl95DTla8alu6ZK7qWDMzU3y9cyvSU2ORlnIFO8I3w8TEuMpruQwfhNgrp5GbcxPHj36Htm3/mZ2jp6eHTz7+AFn3r+PPuxcwd84Mye65IUixOlljx+CtZyNHDMb7wUsxffp8mJrbYfiIl3Er6S6GDhmA1asCMOGVaWhp2RVJt5Ox88uwKs+zeVMwSkvLYGXTE6/5+iFs8/vo0sUOANClix22hoXg9Tdmw8qmJwoLixC6+T1N3eIzQ1dXB3/+mQKXkS/DvEVnBAWtxa6vt6FdOxtVHYuWDjA1t4OpuR2C3/tQtX/likUwM22OTnb9Ydd5ICxbtUTQ8v9Veh0LCzN89+0nCHp3HVpadsUff1zCrp3bVOVBgfPxfKcOsO3UDyNHT8SC/70N19HDpLptjZNikZzGjsFbz4ICF2B18EZEnzsPQRCQkpKGlJQ0jB0zEt/viUBcXDzKysoQ/N6HGDJkAGxt24nOYWjYDBM8xyDo3XUoKCjE2V9+x8GIY5g65WUAgM/kCYg4dAw//RyNgoJCBL27Dp7jX4SxsZGmb7dRKywswspVG3Dnzp8QBAGHIo8j6fZd9OrVo8ZjO7RvgwM/RCEvLx+5uXnYf+Cw6g/jv3mOH4O4uHjs2ROBkpISrFj1AXr0cIC9fUcAwKtTJyL4vQ+Rk/MA16/fxGeff43XXptUr/fakMohqL01FQzeeqStrY3evXugZUsLXI/7GbdvxeCjD1fDwMAAAKCl9c9qIY9+7trVXnQeOztblJcrkJBwS7Xv8uWr6NLlYd0uXexw+XKcquzWrTsoLS2D3fM1f2KGqtaqVQvYPW+LuLgbqn23bkbj9q0YfPrJBlhYmKn2b90WjrFjRsDUtDlMTZtjgudYHIn6sdLzdulih0uP/b4KC4uQeOsOunSxh6lpc1hZta5QfulyXJUh3hgJtfivqWDw1iNLy5bQ09PDhAljMcxlAnr3GQUnx25YumQOoo6ewsRXXkL37g4wMDDAsqXzoFQqYWjYTHQeYyMj5ObmVdj34EEeTP7u0RobGeHBg3+X51Y7xkjV09XVxZfhodjx5fe4cSMR9+9noV//F2HbqR/69neDiYkxvgz/Z9Ws8xeuQE9PDxlpschIi4VCocDWbeGVntvY2Ei01GHugzyYGBurXqU8/vvMfZALE+Nn53cpxULojV2DBu9LL73UkJevd0VFxQCAsC3bkZaWgczMbGz86GO4ubngxMmfsGLleny7+xMkJvyGO3eSkZeXj3t/porOk19QAJnMpMI+mcwEefkFj5Ubi8vz8iW6s2eblpYWwr/YhNLSUsyesxQAUFBQiD/OX/57xan7mD1nKUaPHqYKyt1fb0N8wi2YmtvBzMIeibfuYEf45krPn59fABOTir9PE5kx8vLzkf/37/Tx36eJzAR5+c/O75I9XjHJg/fmzZtVbtnZ2VJfXqNych4gOTkFjy9/8fjPW7eFw6HrIFi3ccTefZHQ1dVF7NUbovPEx9+Crq4OOnXqoNrXo0cX1UvguLh49OjRRVXWoUNb6OvrIf6xoQlS3ycffwDLVi0x0WsGysvLK63z6Peorf3wf5mePbvik0+/QmFhEQoKCvHxJ1/iRTeXSo+Ni4tHz8d+X4aGzdDRtj3i4m4gJ+cBUlLSKpT37NEFcXHxlZ2qUWKPV0zyebzjxo2DtbU1KluLJycnR+rLa1z4jm8wa+YbiIr6EWVl5Zg7+01ERh6Hvr4+OnVqj6tXb6BNGyts2xKCzaGfISfngegchYVF2Lf/MN4NWoAZby2AY8+ucH9pNAYP9QAAfL1rL34+8wMGvdAX5y9cwbtBC7Bv/2FV74nUFxa6Bg6dn8doNy8UFxer9vft44ScB7lISLgFMzNTfLhxFU6d+kU1BBQTcwnT3piMgHeCAQDT/zMFV65cq/Qa+w8cRsiaZfD0HIPIyBNYvmwerly5hhs3EgEAX+38HkvemYOYPy7D0rIF/jPNB9PfnC/xnWuOonGtw6URkvd4ra2t8fXXX+PkyZOizcLCQurLa9zq4A8RE3MJ167+hNjLp3DhYizee38TDAz08eWOUDzITsCvZw/ht+g/EBi0VnVcwGJ/RPzwpeqxn/8SNGtmgNR7l/HVl1swy/8dVS8oLi4eM/0CsCM8FKn3LsPExBh+/ks0fq+NXdu21nhrxqvo2bML7iVfVM3XnTzZEx1s2+LQwa+QkxWPSxdOoKSkFFNenak6dvqM+Wjfvg3uJMXg7u0Y2HZoizf+M1dVfuniSUye/HBB7/v3szDJawZWrVyM+xlX0bePE3ymvq2q++6KD5B46w5u3YzGyeN78MGGbYg6ekpTT4PkOI9XTPJlIUNCQjBq1Cj06tVLVLZ69WosW7asVufjspBEDaOuy0JObjde7bq77uyv0zUaG67HS0RqqWvwetUieL9pIsHLtRqISFJNaQhBXQxeIpJUU5ompi4GLxFJirMaxBi8RCQpDjWIMXiJSFJN6YMR6mLwEpGkOMYrxuAlIklxqEGMwUtEkmpkHxXQCAYvEUmKX+8uxuAlIklxqEGMC6ETkaQEQVB7qw0XFxe4ubnBw8MDHh4e+OmnnwAAFy9ehLu7O1xdXTFt2jRkZmaqjpGirC4YvEQkKSlXJ9u0aRMOHDiAAwcOYPDgwVAqlVi4cCECAwMRFRUFZ2dnrF+//mE7JCirKwYvEUlKk99AERsbC319fTg7OwMAvL29ceTIEcnK6opjvEQkqdp8ZDg3N1f0/XQAIJPJIJPJRPsXLFgAQRDQu3dvzJ8/H6mpqbCyslKVm5ubQ6lUIicnR5IyU1NTte/tcQxeIpJUbYYQwsPDERoaKtrv5+cHf3//Cvt27twJuVyO0tJSBAcHY+XKlRg1atQTt1cTGLxEJKnaBK+vry88PT1F+yvr7crlcgCAnp4efHx88Pbbb+O1115DSkqKqk5WVha0tbVhamoKuVxe72V1xTFeIpJUbWY1yGQy2NjYiLZ/B29hYSHy8vJU54+MjISDgwO6deuG4uJixMTEAAB2794NNzc3AJCkrK74DRREpJa6fgNFX6uhatc9l3JarXrJycnw9/eHQqGAUqlEx44dsWzZMrRq1Qrnz59HUFAQSkpKYG1tjXXr1qFFixYAIElZXTB4iUgtdQ3ePlZD1K77e8qZOl2jseEYLxFJSiFwYch/Y/ASkaQa2YtqjWDwEpGkuFaDGIOXiCTFhdDFGLxEJCklhxpEGLxEJCn2eMUYvEQkKc5qEGPwEpGkONQgxuAlIklxqEGMwUtEkmKPV4zBS0SSYo9XjMFLRJJSCIqGbsJTh8FLRJLiR4bFGLxEJCl+ZFiMwUtEkmKPV4zBS0SS4qwGMQYvEUmKsxrEGLxEJCl+ZFiMwUtEkuIYrxiDl4gkxTFeMQYvEUmKPV4xBi8RSYrzeMUYvEQkKfZ4xRi8RCQpzmoQY/ASkaT45poYg5eIJMWhBjEGLxFJip9cE2PwEpGk2OMVY/ASkaQ4xiumJfDPERGRRmk3dAOIiJoaBi8RkYYxeImINIzBS0SkYQxeIiINY/ASEWkYg5eISMMYvEREGsbgJSLSMAbvUyIpKQleXl5wdXWFl5cXbt++3dBNIjWFhITAxcUF9vb2iI+Pb+jmUCPA4H1KBAUFwcfHB1FRUfDx8UFgYGBDN4nUNGLECOzcuRPW1tYN3RRqJBi8T4HMzEzExcVh3LhxAIBx48YhLi4OWVlZDdwyUoezszPkcnlDN4MaEQbvUyA1NRWWlpbQ0dEBAOjo6KBVq1ZITU1t4JYRkRQYvEREGsbgfQrI5XKkp6dDoVAAABQKBTIyMvjylegZxeB9ClhYWMDBwQEREREAgIiICDg4OMDc3LyBW0ZEUuBC6E+JxMREBAQEIDc3FzKZDCEhIbC1tW3oZpEaVq9ejaNHj+L+/fswMzODqakpDh061NDNoqcYg5eISMM41EBEpGEMXiIiDWPwEhFpGIOXiEjDGLxERBrG4CVJBAQEYOPGjQCAmJgYuLq6auS69vb2uHPnjkauRVRXDN4mzsXFBT169ICTkxMGDhyIgIAAFBQU1Os1nJ2dERUVVWO9vXv3YvLkyfV6baKnEYOXsG3bNly4cAH79u1DbGwstm7dWqG8vLy8gVpG9Gxi8JKKpaUlBg8ejISEBNjb22Pnzp0YPXo0Ro8eDQD48ccf4eHhAWdnZ3h7e+P69euqY+Pi4uDp6QknJyfMnTsXJSUlqrLo6GgMGTJE9Tg1NRV+fn7o378/+vXrh5UrVyIxMRFBQUG4ePEinJyc4OzsDAAoLS1FSEgIhg0bhoEDByIwMBDFxcWqc3366acYNGgQBg0ahO+//17qp4ioXjB4SSU1NRVnzpyBg4MDAOD48eP49ttvERkZibi4OCxZsgQrV65EdHQ0vLy8MHPmTJSWlqK0tBSzZs2Ch4cHzp07Bzc3Nxw9erTSaygUCrz11luwsrLCyZMncebMGYwZMwYdO3bEihUr4OjoiAsXLiAmJgYAsH79eiQlJWH//v04evQoMjIyEBYWBgA4c+YMPv/8c3z++ec4evQofv31V808UURPiMFLmDVrFpydneHj44M+ffrgv//9LwBgxowZMDU1hYGBAb755ht4eXmhZ8+e0NHRgaenJ5577jlcvHgRly5dQllZGXx9ffHcc8/Bzc0N3bt3r/Raly9fRkZGBhYtWgRDQ0Po6+urerf/JggCvv32WyxZsgSmpqYwNjbGW2+9pVoH4fDhw5gwYQLs7OxgaGgIPz8/aZ4gonqm29ANoIYXFhaGgQMHivY/vixlSkoK9u/fj6+++kq1r6ysDBkZGdDS0oKlpSW0tLRUZVZWVpVeKzU1FVZWVtDVrfmfXlZWFoqKijBhwgTVPkEQoFQqAQAZGRno1q2bqoxfvUONBYOXqvR4kMrlcvz3v//F22+/Lap37tw5pKenQxAE1TEpKSlo06aNqK5cLkdqairKy8tF4fv49QDAzMwMBgYGOHToECwtLUXn+ve3dKSkpNTuBokaCIcaSC0TJ07E7t27cenSJQiCgMLCQpw6dQr5+flwdHSErq4uduzYgbKyMhw9ehRXrlyp9Dw9evRAy5Yt8cEHH6CwsBAlJSX4448/ADxclzg9PR2lpaUAAG1tbUycOBHvvfceMjMzAQDp6en46aefAABubm7Yt28fbt68iaKiIoSGhmrgmSB6cgxeUkv37t2xatUqrFy5En369MHo0aOxd+9eAICenh42b96Mffv2oW/fvoiMjMSoUaMqPY+Ojg62bduGO3fuYPjw4RgyZAgOHz4MAOjfvz86deqEQYMGoV+/fgCAhQsXol27dpg0aRJ69eqF119/HUlJSQCAoUOHwtfXF76+vhg1ahT69++vgWeC6MlxPV4iIg1jj5eISMMYvEREGsbgJSLSMAYvEZGGMXiJiDSMwUtEpGEMXiIiDWPwEhFpGIOXiEjD/h+1CV8PLGSglwAAAABJRU5ErkJggg==",
      "text/plain": [
       "<Figure size 360x288 with 2 Axes>"
      ]
     },
     "metadata": {},
     "output_type": "display_data"
    }
   ],
   "source": [
    "fig = sns.set(rc={'figure.figsize': (5, 4)})\n",
    "plt.title(\"Heat Map for Confusion Matrix\")\n",
    "sns.heatmap(cm, annot=True, fmt=\".2f\")\n",
    "plt.xlabel(\"Predicted\")\n",
    "plt.ylabel(\"Truth\")\n",
    "plt.show()"
   ]
  },
  {
   "cell_type": "markdown",
   "metadata": {},
   "source": [
    "#### 7.2 Accuracy Score"
   ]
  },
  {
   "cell_type": "code",
   "execution_count": null,
   "metadata": {},
   "outputs": [
    {
     "name": "stdout",
     "output_type": "stream",
     "text": [
      "The Accuracy Score is 99.98 %\n"
     ]
    }
   ],
   "source": [
    "print(f\"The Accuracy Score is {acc * 100:.2f} %\")"
   ]
  },
  {
   "cell_type": "markdown",
   "metadata": {},
   "source": [
    "#### 7.3 Classification Report"
   ]
  },
  {
   "cell_type": "code",
   "execution_count": null,
   "metadata": {},
   "outputs": [
    {
     "name": "stdout",
     "output_type": "stream",
     "text": [
      "              precision    recall  f1-score   support\n",
      "\n",
      "           0       1.00      1.00      1.00    314246\n",
      "           1       0.98      0.79      0.87       327\n",
      "\n",
      "    accuracy                           1.00    314573\n",
      "   macro avg       0.99      0.89      0.94    314573\n",
      "weighted avg       1.00      1.00      1.00    314573\n",
      "\n"
     ]
    }
   ],
   "source": [
    "print(cr)"
   ]
  },
  {
   "cell_type": "markdown",
   "metadata": {},
   "source": [
    "### 8. Dumping into Pickle file"
   ]
  },
  {
   "cell_type": "code",
   "execution_count": null,
   "metadata": {},
   "outputs": [],
   "source": [
    "import pickle"
   ]
  },
  {
   "cell_type": "code",
   "execution_count": null,
   "metadata": {},
   "outputs": [],
   "source": [
    "pickle.dump(pipe, open('../pickle/model.pkl','wb'))"
   ]
  },
  {
   "cell_type": "code",
   "execution_count": null,
   "metadata": {},
   "outputs": [],
   "source": []
  }
 ],
 "metadata": {
  "kernelspec": {
   "display_name": "Python 3.9.12 ('base')",
   "language": "python",
   "name": "python3"
  },
  "language_info": {
   "codemirror_mode": {
    "name": "ipython",
    "version": 3
   },
   "file_extension": ".py",
   "mimetype": "text/x-python",
   "name": "python",
   "nbconvert_exporter": "python",
   "pygments_lexer": "ipython3",
   "version": "3.9.12"
  },
  "orig_nbformat": 4,
  "vscode": {
   "interpreter": {
    "hash": "741fc2f54781121697de58b250db9898f3181729880d0108903c0c2baa6c1e16"
   }
  }
 },
 "nbformat": 4,
 "nbformat_minor": 2
}
